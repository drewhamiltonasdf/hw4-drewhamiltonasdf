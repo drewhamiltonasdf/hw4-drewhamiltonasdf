{
 "cells": [
  {
   "cell_type": "code",
   "execution_count": 1,
   "metadata": {},
   "outputs": [
    {
     "name": "stderr",
     "output_type": "stream",
     "text": [
      "\u001b[32m\u001b[1m  Activating\u001b[22m\u001b[39m environment at `~/Classes/16745_OptimalControl/hw4_new/Project.toml`\n"
     ]
    },
    {
     "data": {
      "application/vnd.webio.node+json": {
       "children": [],
       "instanceArgs": {
        "namespace": "html",
        "tag": "div"
       },
       "nodeType": "DOM",
       "props": {},
       "type": "node"
      },
      "text/html": [
       "<div style=\"padding: 1em; background-color: #f8d6da; border: 1px solid #f5c6cb; font-weight: bold;\">\n",
       "<p>The WebIO Jupyter extension was not detected. See the\n",
       "<a href=\"https://juliagizmos.github.io/WebIO.jl/latest/providers/ijulia/\" target=\"_blank\">\n",
       "    WebIO Jupyter integration documentation\n",
       "</a>\n",
       "for more information.\n",
       "</div>\n"
      ],
      "text/plain": [
       "WebIO._IJuliaInit()"
      ]
     },
     "metadata": {
      "application/vnd.webio.node+json": {
       "kernelId": "7f6120eb-1721-4240-8361-420a72e5b1b1"
      }
     },
     "output_type": "display_data"
    },
    {
     "data": {
      "text/plain": [
       "\"/home/brian/Classes/16745_OptimalControl/hw4_new/src/q3.jld2\""
      ]
     },
     "execution_count": 1,
     "metadata": {},
     "output_type": "execute_result"
    }
   ],
   "source": [
    "import Pkg; Pkg.activate(joinpath(@__DIR__,\"..\")); Pkg.instantiate()\n",
    "using TrajectoryOptimization\n",
    "import TrajectoryOptimization: get_times\n",
    "using RobotDynamics\n",
    "import RobotZoo.Acrobot\n",
    "using StaticArrays\n",
    "using SparseArrays\n",
    "using LinearAlgebra\n",
    "using ForwardDiff\n",
    "using OSQP\n",
    "using Plots\n",
    "using TrajOptPlots\n",
    "using Colors\n",
    "using Printf\n",
    "using Test\n",
    "using JLD2\n",
    "include(\"acrobot.jl\")\n",
    "include(\"utils.jl\")\n",
    "const resfile = joinpath(@__DIR__,\"q3.jld2\")\n",
    "const isautograder = @isdefined autograder;"
   ]
  },
  {
   "cell_type": "markdown",
   "metadata": {},
   "source": [
    "# Question 3: Iterative Learning Control (25 pts)\n",
    "In this problem we'll be exploring the use of iterative learning control (ILC) to update our trajectories to work on a \"real\" system with some un-modeled system dynamics. We'll first find an optimalized trajectory using our approximate model, and then refine those trajectories using ILC to achieve the desired behavior. \n",
    "\n",
    "## Dynamics\n",
    "We'll keep things simple by applying this to the \"acrobot\" system, which is just a double pendulum with actuation only at the elbow joint. We'll use the model out of RobotZoo.\n",
    "\n",
    "## Setting up the Optimization problem\n",
    "We'll use TrajectoryOptimization.jl to define our problem. We specify an initial and terminal constraint, a quadratic cost function that penalizes distance from the goal, and bounds on the torques. "
   ]
  },
  {
   "cell_type": "code",
   "execution_count": 2,
   "metadata": {},
   "outputs": [],
   "source": [
    "# Dynamics Model\n",
    "l0 = @SVector [1.0, 1.0]\n",
    "m0 = @SVector [1.0, 1.0]\n",
    "J0 = @SVector [(1.0/12)*m0[1]*l0[1]*l0[1], (1.0/12)*m0[2]*l0[2]*l0[2]]\n",
    "model = Acrobot(l0, m0, J0)\n",
    "n,m = size(model);\n",
    "\n",
    "# Discretization\n",
    "N = 101\n",
    "Tf = 5.\n",
    "h = Tf/(N-1)\n",
    "\n",
    "# Initial and Final Conditions\n",
    "x0 = @SVector [-pi/2, 0, 0, 0]\n",
    "xf = @SVector [pi/2, 0, 0, 0];  # i.e. swing up\n",
    "\n",
    "# Objective\n",
    "Q = 100.0*Diagonal(@SVector ones(n))\n",
    "Qf = 1000.0*Diagonal(@SVector ones(n))\n",
    "R = 1.0*Diagonal(@SVector ones(m))\n",
    "obj = LQRObjective(Q,R,Qf,xf,N);\n",
    "\n",
    "# Constraints\n",
    "conSet = ConstraintList(n,m,N)\n",
    "\n",
    "# Control bounds\n",
    "u_bnd = 20.0\n",
    "bnd = BoundConstraint(n,m, u_min=-u_bnd, u_max=u_bnd)\n",
    "add_constraint!(conSet, bnd, 1:N-1)\n",
    "\n",
    "# Goal constraint\n",
    "goal = GoalConstraint(xf)\n",
    "add_constraint!(conSet, goal, N)\n",
    "\n",
    "# Define the problem\n",
    "prob = Problem(model, obj, xf, Tf, x0=x0, constraints=conSet, integration=RK4);\n",
    "\n",
    "# Initial controls\n",
    "U0 = [randn() for k = 1:N-1]\n",
    "initial_controls!(prob, U0)\n",
    "rollout!(prob);"
   ]
  },
  {
   "cell_type": "markdown",
   "metadata": {},
   "source": [
    "## Solving the Problem\n",
    "We'll make it easy for you and and solve the problem using ALTRO. Run the code below to solve for the optimized trajectory and visualize the result."
   ]
  },
  {
   "cell_type": "code",
   "execution_count": 3,
   "metadata": {},
   "outputs": [
    {
     "name": "stdout",
     "output_type": "stream",
     "text": [
      "\u001b[32;1m\n",
      "SOLVE COMPLETED\n",
      "\u001b[0m solved using the \u001b[0m\u001b[36;1mALTRO\u001b[0m Solver,\n",
      " part of the Altro.jl package developed by the REx Lab at Stanford and Carnegie Mellon Universities\n",
      "\u001b[34;1m\n",
      "  Solve Statistics\n",
      "\u001b[0m    Total Iterations: 877\n",
      "\u001b[0m    Solve Time: 1349.9089119999999 (ms)\n",
      "\u001b[34;1m\n",
      "  Covergence\n",
      "\u001b[0m    Terminal Cost: 5607.5892866843205\n",
      "\u001b[0m    Terminal dJ: \u001b[32m1.4423168067878578e-5\n",
      "\u001b[0m    Terminal gradient: \u001b[32m0.009015517830683833\n",
      "\u001b[0m    Terminal constraint violation: \u001b[32m3.501533653182953e-5\n",
      "\u001b[0m    Solve Status: \u001b[1m\u001b[32mSOLVE_SUCCEEDED\n",
      "\u001b[0m"
     ]
    }
   ],
   "source": [
    "using Altro\n",
    "using Random\n",
    "opts = SolverOptions(\n",
    "    iterations=1000,\n",
    "    constraint_tolerance=1e-4,\n",
    "    projected_newton=0,\n",
    "    verbose=0\n",
    ")\n",
    "\n",
    "Random.seed!(1)\n",
    "U0 = [randn() for k = 1:N-1]\n",
    "initial_controls!(prob, U0)\n",
    "\n",
    "altro = ALTROSolver(prob, opts)\n",
    "set_options!(altro, show_summary=true)\n",
    "solve!(altro);"
   ]
  },
  {
   "cell_type": "code",
   "execution_count": 4,
   "metadata": {},
   "outputs": [
    {
     "name": "stderr",
     "output_type": "stream",
     "text": [
      "┌ Info: MeshCat server started. You can open the visualizer by visiting the following URL in your browser:\n",
      "│ http://127.0.0.1:8705\n",
      "└ @ MeshCat /home/brian/.julia/packages/MeshCat/GlCMx/src/visualizer.jl:73\n"
     ]
    },
    {
     "data": {
      "text/html": [
       "    <div style=\"height: 500px; width: 100%; overflow-x: auto; overflow-y: hidden; resize: both\">\n",
       "    <iframe src=\"http://127.0.0.1:8705\" style=\"width: 100%; height: 100%; border: none\"></iframe>\n",
       "    </div>\n"
      ],
      "text/plain": [
       "MeshCat.DisplayedVisualizer(MeshCat.CoreVisualizer(MeshCat.SceneTrees.SceneNode(nothing, nothing, Dict{String, Vector{UInt8}}(), nothing, Dict{String, MeshCat.SceneTrees.SceneNode}(\"meshcat\" => MeshCat.SceneTrees.SceneNode(nothing, nothing, Dict{String, Vector{UInt8}}(), nothing, Dict{String, MeshCat.SceneTrees.SceneNode}(\"robot\" => MeshCat.SceneTrees.SceneNode(nothing, nothing, Dict{String, Vector{UInt8}}(), nothing, Dict{String, MeshCat.SceneTrees.SceneNode}(\"base\" => MeshCat.SceneTrees.SceneNode(UInt8[0x83, 0xa6, 0x6f, 0x62, 0x6a, 0x65, 0x63, 0x74, 0x84, 0xaa  …  0x72, 0x6f, 0x62, 0x6f, 0x74, 0x2f, 0x62, 0x61, 0x73, 0x65], nothing, Dict{String, Vector{UInt8}}(), nothing, Dict{String, MeshCat.SceneTrees.SceneNode}()), \"link1\" => MeshCat.SceneTrees.SceneNode(UInt8[0x83, 0xa6, 0x6f, 0x62, 0x6a, 0x65, 0x63, 0x74, 0x84, 0xaa  …  0x6f, 0x62, 0x6f, 0x74, 0x2f, 0x6c, 0x69, 0x6e, 0x6b, 0x31], nothing, Dict{String, Vector{UInt8}}(), nothing, Dict{String, MeshCat.SceneTrees.SceneNode}(\"joint\" => MeshCat.SceneTrees.SceneNode(UInt8[0x83, 0xa6, 0x6f, 0x62, 0x6a, 0x65, 0x63, 0x74, 0x84, 0xaa  …  0x69, 0x6e, 0x6b, 0x31, 0x2f, 0x6a, 0x6f, 0x69, 0x6e, 0x74], UInt8[0x83, 0xa6, 0x6d, 0x61, 0x74, 0x72, 0x69, 0x78, 0xc7, 0x40  …  0x69, 0x6e, 0x6b, 0x31, 0x2f, 0x6a, 0x6f, 0x69, 0x6e, 0x74], Dict{String, Vector{UInt8}}(), nothing, Dict{String, MeshCat.SceneTrees.SceneNode}()), \"link2\" => MeshCat.SceneTrees.SceneNode(UInt8[0x83, 0xa6, 0x6f, 0x62, 0x6a, 0x65, 0x63, 0x74, 0x84, 0xaa  …  0x69, 0x6e, 0x6b, 0x31, 0x2f, 0x6c, 0x69, 0x6e, 0x6b, 0x32], UInt8[0x83, 0xa6, 0x6d, 0x61, 0x74, 0x72, 0x69, 0x78, 0xc7, 0x40  …  0x69, 0x6e, 0x6b, 0x31, 0x2f, 0x6c, 0x69, 0x6e, 0x6b, 0x32], Dict{String, Vector{UInt8}}(), nothing, Dict{String, MeshCat.SceneTrees.SceneNode}()))))))))), Set{Any}(), ip\"127.0.0.1\", 8705))"
      ]
     },
     "execution_count": 4,
     "metadata": {},
     "output_type": "execute_result"
    }
   ],
   "source": [
    "if !isautograder\n",
    "    vis = Visualizer()\n",
    "    TrajOptPlots.set_mesh!(vis, model)\n",
    "    render(vis)\n",
    "end"
   ]
  },
  {
   "cell_type": "code",
   "execution_count": 5,
   "metadata": {},
   "outputs": [],
   "source": [
    "isautograder || visualize!(vis, model, Tf, states(altro))"
   ]
  },
  {
   "cell_type": "markdown",
   "metadata": {},
   "source": [
    "## Part (a): Simulate on \"Real\" System (6 pts)\n",
    "Using out optimized trajectory, design a TVLQR control policy to tracking the new system. You'll also implement a basic simulator to test out your controller on the \"real\" system, which is slightly different than our nominal model. "
   ]
  },
  {
   "cell_type": "code",
   "execution_count": 6,
   "metadata": {},
   "outputs": [],
   "source": [
    "# TASK: Calculate the TVLQR gains (3 pts)\n",
    "\n",
    "# Extract reference trajectory\n",
    "Xref = states(altro)\n",
    "Uref = controls(altro)\n",
    "times = get_times(altro)\n",
    "\n",
    "# TODO: Calculate the TVLQR gains and the linearized dynamics about the reference trajectory\n",
    "n,m,N = size(altro)\n",
    "A = [zeros(n,n) for k = 1:N-1]\n",
    "B = [zeros(n,m) for k = 1:N-1]\n",
    "K = [zeros(m,n) for k = 1:N-1]\n",
    "\n",
    "# SOLUTION\n",
    "function linearize(model, X, U, times)\n",
    "    n,m = size(model)\n",
    "    N = length(X)\n",
    "    A = [zeros(n,n) for k = 1:N-1]\n",
    "    B = [zeros(n,m) for k = 1:N-1]\n",
    "    ∇f = RobotDynamics.DynamicsJacobian(model)\n",
    "    for k = 1:N-1\n",
    "        dt = times[k+1] - times[k]\n",
    "        z = KnotPoint(X[k], U[k], dt, times[k])\n",
    "        discrete_jacobian!(RK4, ∇f, model, z)\n",
    "        A[k] .= ∇f.A\n",
    "        B[k] .= ∇f.B\n",
    "    end\n",
    "    A,B\n",
    "end\n",
    "function tvlqr(A,B, Q,R,Qf=Q)\n",
    "    n,m = size(B[1])\n",
    "    N = length(A)+1\n",
    "    K = [zeros(m,n) for k = 1:N-1]\n",
    "    P = [zeros(n,n) for k = 1:N]\n",
    "    P[end] .= Qf\n",
    "    for k = reverse(1:N-1)\n",
    "        K[k] .= (R + B[k]'P[k+1]*B[k])\\(B[k]'P[k+1]*A[k])\n",
    "        P[k] .= Q + A[k]'P[k+1]*A[k] - A[k]'P[k+1]*B[k]*K[k]\n",
    "    end\n",
    "    return K,P\n",
    "end\n",
    "A,B = linearize(model, states(altro), controls(altro), get_times(altro))\n",
    "K,P = tvlqr(A,B, Q,R,Qf);\n",
    "# END SOLUTION"
   ]
  },
  {
   "cell_type": "code",
   "execution_count": 7,
   "metadata": {},
   "outputs": [
    {
     "name": "stdout",
     "output_type": "stream",
     "text": [
      "\u001b[0m\u001b[1mTest Summary: | \u001b[22m\u001b[32m\u001b[1mPass  \u001b[22m\u001b[39m\u001b[36m\u001b[1mTotal\u001b[22m\u001b[39m\n",
      "Q3a: TVLQR    | \u001b[32m   3  \u001b[39m\u001b[36m    3\u001b[39m\n"
     ]
    }
   ],
   "source": [
    "@testset \"Q3a: TVLQR\" begin                                     # POINTS = 3\n",
    "    @test A ≈ load(resfile, \"A\") rtol=1e-3                      # POINTS = 1\n",
    "    @test B ≈ load(resfile, \"B\") rtol=1e-3                      # POINTS = 1\n",
    "    @test K ≈ load(resfile, \"K\") rtol=1e-3                      # POINTS = 1\n",
    "end;"
   ]
  },
  {
   "cell_type": "code",
   "execution_count": 8,
   "metadata": {},
   "outputs": [],
   "source": [
    "# TASK: Implement the following function (3 pts)\n",
    "\"\"\"\n",
    "    rollout(model, K, Xref, Uref, times; [u_bnd, x0])\n",
    "\n",
    "Simulate the system with the TVLQR controller specified by the feedback gains `K` and reference trajectory `Xref`, `Uref`, and `times`.\n",
    "\n",
    "Should clamp the controls to be between `-u_bnd` and `+u_bnd` prior to integrating the system dynamics.\n",
    "\n",
    "For the dynamics integration, use `x′ = true_dynamics_rk4(model, x, u, dt)`.\n",
    "\"\"\"\n",
    "function rollout(model::Acrobot, K, Xref, Uref, times; u_bnd=20.0, x0=Xref[1])\n",
    "    n,m = size(model)\n",
    "    N = length(K) + 1\n",
    "    X = [@SVector zeros(n) for k = 1:N]\n",
    "    U = [@SVector zeros(m) for k = 1:N-1]\n",
    "    X[1] = x0\n",
    "    \n",
    "    # TODO: Simulate at the same time step as the reference trajectory\n",
    "    #  TIP: just loop over the indices, instead of time (just to make it easier)\n",
    "    #  TIP: remember to use `true_dynamics_rk4(model, x, u, dt)` to simulate your dynamics!\n",
    "    #  TIP: remember to clamp your controls before sending them to them to the simulator!\n",
    "    \n",
    "    # SOLUTION\n",
    "    for k = 1:N-1\n",
    "        dt = times[k+1] - times[k]\n",
    "        U[k] = Uref[k] - K[k]*(X[k] - Xref[k])\n",
    "        U[k] = clamp.(U[k], -u_bnd, u_bnd)\n",
    "        X[k+1] = true_dynamics_rk4(model, X[k], U[k], dt)\n",
    "    end\n",
    "    # END SOLUTION\n",
    "    return X, U\n",
    "end\n",
    "Xsim,Usim = rollout(model, K, states(altro), controls(altro), get_times(altro));"
   ]
  },
  {
   "cell_type": "code",
   "execution_count": 9,
   "metadata": {},
   "outputs": [
    {
     "name": "stdout",
     "output_type": "stream",
     "text": [
      "\u001b[0m\u001b[1mTest Summary: | \u001b[22m\u001b[32m\u001b[1mPass  \u001b[22m\u001b[39m\u001b[36m\u001b[1mTotal\u001b[22m\u001b[39m\n",
      "Q3a: rollout  | \u001b[32m   3  \u001b[39m\u001b[36m    3\u001b[39m\n"
     ]
    }
   ],
   "source": [
    "@testset \"Q3a: rollout\" begin                                  # POINTS = 3\n",
    "    @test norm(Xsim[1] - states(altro)[1]) < 1e-8              # POINTS = 1\n",
    "    @test 1 < norm(Xsim[end] - states(altro)[end]) < 2         # POINTS = 1\n",
    "    @test abs(maximum(norm.(Usim,Inf)) - u_bnd) < 1e-8         # POINTS = 1\n",
    "end;"
   ]
  },
  {
   "cell_type": "code",
   "execution_count": 10,
   "metadata": {},
   "outputs": [
    {
     "data": {
      "text/html": [
       "    <div style=\"height: 500px; width: 100%; overflow-x: auto; overflow-y: hidden; resize: both\">\n",
       "    <iframe src=\"http://127.0.0.1:8705\" style=\"width: 100%; height: 100%; border: none\"></iframe>\n",
       "    </div>\n"
      ],
      "text/plain": [
       "MeshCat.DisplayedVisualizer(MeshCat.CoreVisualizer(MeshCat.SceneTrees.SceneNode(nothing, nothing, Dict{String, Vector{UInt8}}(), UInt8[0x83, 0xa7, 0x6f, 0x70, 0x74, 0x69, 0x6f, 0x6e, 0x73, 0x82  …  0x5f, 0x61, 0x6e, 0x69, 0x6d, 0x61, 0x74, 0x69, 0x6f, 0x6e], Dict{String, MeshCat.SceneTrees.SceneNode}(\"meshcat\" => MeshCat.SceneTrees.SceneNode(nothing, nothing, Dict{String, Vector{UInt8}}(), nothing, Dict{String, MeshCat.SceneTrees.SceneNode}(\"robot\" => MeshCat.SceneTrees.SceneNode(nothing, nothing, Dict{String, Vector{UInt8}}(), nothing, Dict{String, MeshCat.SceneTrees.SceneNode}(\"base\" => MeshCat.SceneTrees.SceneNode(UInt8[0x83, 0xa6, 0x6f, 0x62, 0x6a, 0x65, 0x63, 0x74, 0x84, 0xaa  …  0x72, 0x6f, 0x62, 0x6f, 0x74, 0x2f, 0x62, 0x61, 0x73, 0x65], nothing, Dict{String, Vector{UInt8}}(), nothing, Dict{String, MeshCat.SceneTrees.SceneNode}()), \"link1\" => MeshCat.SceneTrees.SceneNode(UInt8[0x83, 0xa6, 0x6f, 0x62, 0x6a, 0x65, 0x63, 0x74, 0x84, 0xaa  …  0x6f, 0x62, 0x6f, 0x74, 0x2f, 0x6c, 0x69, 0x6e, 0x6b, 0x31], nothing, Dict{String, Vector{UInt8}}(), nothing, Dict{String, MeshCat.SceneTrees.SceneNode}(\"joint\" => MeshCat.SceneTrees.SceneNode(UInt8[0x83, 0xa6, 0x6f, 0x62, 0x6a, 0x65, 0x63, 0x74, 0x84, 0xaa  …  0x69, 0x6e, 0x6b, 0x31, 0x2f, 0x6a, 0x6f, 0x69, 0x6e, 0x74], UInt8[0x83, 0xa6, 0x6d, 0x61, 0x74, 0x72, 0x69, 0x78, 0xc7, 0x40  …  0x69, 0x6e, 0x6b, 0x31, 0x2f, 0x6a, 0x6f, 0x69, 0x6e, 0x74], Dict{String, Vector{UInt8}}(), nothing, Dict{String, MeshCat.SceneTrees.SceneNode}()), \"link2\" => MeshCat.SceneTrees.SceneNode(UInt8[0x83, 0xa6, 0x6f, 0x62, 0x6a, 0x65, 0x63, 0x74, 0x84, 0xaa  …  0x69, 0x6e, 0x6b, 0x31, 0x2f, 0x6c, 0x69, 0x6e, 0x6b, 0x32], UInt8[0x83, 0xa6, 0x6d, 0x61, 0x74, 0x72, 0x69, 0x78, 0xc7, 0x40  …  0x69, 0x6e, 0x6b, 0x31, 0x2f, 0x6c, 0x69, 0x6e, 0x6b, 0x32], Dict{String, Vector{UInt8}}(), nothing, Dict{String, MeshCat.SceneTrees.SceneNode}()))))))))), Set(Any[WebSocket(server, \u001b[32mCONNECTED\u001b[39m)]), ip\"127.0.0.1\", 8705))"
      ]
     },
     "execution_count": 10,
     "metadata": {},
     "output_type": "execute_result"
    }
   ],
   "source": [
    "isautograder || render(vis)"
   ]
  },
  {
   "cell_type": "code",
   "execution_count": 11,
   "metadata": {},
   "outputs": [],
   "source": [
    "# visualize with ghost of the reference trajectory\n",
    "isautograder || visualize!(vis, model, Tf, Xsim, states(altro), colors=[colorant\"blue\", RGBA(0,0,1,0.5)])"
   ]
  },
  {
   "cell_type": "code",
   "execution_count": 12,
   "metadata": {},
   "outputs": [
    {
     "data": {
      "image/svg+xml": [
       "<?xml version=\"1.0\" encoding=\"utf-8\"?>\n",
       "<svg xmlns=\"http://www.w3.org/2000/svg\" xmlns:xlink=\"http://www.w3.org/1999/xlink\" width=\"600\" height=\"400\" viewBox=\"0 0 2400 1600\">\n",
       "<defs>\n",
       "  <clipPath id=\"clip210\">\n",
       "    <rect x=\"0\" y=\"0\" width=\"2400\" height=\"1600\"/>\n",
       "  </clipPath>\n",
       "</defs>\n",
       "<path clip-path=\"url(#clip210)\" d=\"\n",
       "M0 1600 L2400 1600 L2400 0 L0 0  Z\n",
       "  \" fill=\"#ffffff\" fill-rule=\"evenodd\" fill-opacity=\"1\"/>\n",
       "<defs>\n",
       "  <clipPath id=\"clip211\">\n",
       "    <rect x=\"480\" y=\"0\" width=\"1681\" height=\"1600\"/>\n",
       "  </clipPath>\n",
       "</defs>\n",
       "<path clip-path=\"url(#clip210)\" d=\"\n",
       "M148.057 1486.45 L2352.76 1486.45 L2352.76 47.2441 L148.057 47.2441  Z\n",
       "  \" fill=\"#ffffff\" fill-rule=\"evenodd\" fill-opacity=\"1\"/>\n",
       "<defs>\n",
       "  <clipPath id=\"clip212\">\n",
       "    <rect x=\"148\" y=\"47\" width=\"2206\" height=\"1440\"/>\n",
       "  </clipPath>\n",
       "</defs>\n",
       "<polyline clip-path=\"url(#clip212)\" style=\"stroke:#000000; stroke-linecap:butt; stroke-linejoin:round; stroke-width:2; stroke-opacity:0.1; fill:none\" points=\"\n",
       "  189.655,1486.45 189.655,47.2441 \n",
       "  \"/>\n",
       "<polyline clip-path=\"url(#clip212)\" style=\"stroke:#000000; stroke-linecap:butt; stroke-linejoin:round; stroke-width:2; stroke-opacity:0.1; fill:none\" points=\"\n",
       "  709.631,1486.45 709.631,47.2441 \n",
       "  \"/>\n",
       "<polyline clip-path=\"url(#clip212)\" style=\"stroke:#000000; stroke-linecap:butt; stroke-linejoin:round; stroke-width:2; stroke-opacity:0.1; fill:none\" points=\"\n",
       "  1229.61,1486.45 1229.61,47.2441 \n",
       "  \"/>\n",
       "<polyline clip-path=\"url(#clip212)\" style=\"stroke:#000000; stroke-linecap:butt; stroke-linejoin:round; stroke-width:2; stroke-opacity:0.1; fill:none\" points=\"\n",
       "  1749.58,1486.45 1749.58,47.2441 \n",
       "  \"/>\n",
       "<polyline clip-path=\"url(#clip212)\" style=\"stroke:#000000; stroke-linecap:butt; stroke-linejoin:round; stroke-width:2; stroke-opacity:0.1; fill:none\" points=\"\n",
       "  2269.56,1486.45 2269.56,47.2441 \n",
       "  \"/>\n",
       "<polyline clip-path=\"url(#clip210)\" style=\"stroke:#000000; stroke-linecap:butt; stroke-linejoin:round; stroke-width:4; stroke-opacity:1; fill:none\" points=\"\n",
       "  148.057,1486.45 2352.76,1486.45 \n",
       "  \"/>\n",
       "<polyline clip-path=\"url(#clip210)\" style=\"stroke:#000000; stroke-linecap:butt; stroke-linejoin:round; stroke-width:4; stroke-opacity:1; fill:none\" points=\"\n",
       "  189.655,1486.45 189.655,1467.55 \n",
       "  \"/>\n",
       "<polyline clip-path=\"url(#clip210)\" style=\"stroke:#000000; stroke-linecap:butt; stroke-linejoin:round; stroke-width:4; stroke-opacity:1; fill:none\" points=\"\n",
       "  709.631,1486.45 709.631,1467.55 \n",
       "  \"/>\n",
       "<polyline clip-path=\"url(#clip210)\" style=\"stroke:#000000; stroke-linecap:butt; stroke-linejoin:round; stroke-width:4; stroke-opacity:1; fill:none\" points=\"\n",
       "  1229.61,1486.45 1229.61,1467.55 \n",
       "  \"/>\n",
       "<polyline clip-path=\"url(#clip210)\" style=\"stroke:#000000; stroke-linecap:butt; stroke-linejoin:round; stroke-width:4; stroke-opacity:1; fill:none\" points=\"\n",
       "  1749.58,1486.45 1749.58,1467.55 \n",
       "  \"/>\n",
       "<polyline clip-path=\"url(#clip210)\" style=\"stroke:#000000; stroke-linecap:butt; stroke-linejoin:round; stroke-width:4; stroke-opacity:1; fill:none\" points=\"\n",
       "  2269.56,1486.45 2269.56,1467.55 \n",
       "  \"/>\n",
       "<path clip-path=\"url(#clip210)\" d=\"M189.655 1517.37 Q186.044 1517.37 184.215 1520.93 Q182.409 1524.47 182.409 1531.6 Q182.409 1538.71 184.215 1542.27 Q186.044 1545.82 189.655 1545.82 Q193.289 1545.82 195.094 1542.27 Q196.923 1538.71 196.923 1531.6 Q196.923 1524.47 195.094 1520.93 Q193.289 1517.37 189.655 1517.37 M189.655 1513.66 Q195.465 1513.66 198.52 1518.27 Q201.599 1522.85 201.599 1531.6 Q201.599 1540.33 198.52 1544.94 Q195.465 1549.52 189.655 1549.52 Q183.845 1549.52 180.766 1544.94 Q177.71 1540.33 177.71 1531.6 Q177.71 1522.85 180.766 1518.27 Q183.845 1513.66 189.655 1513.66 Z\" fill=\"#000000\" fill-rule=\"evenodd\" fill-opacity=\"1\" /><path clip-path=\"url(#clip210)\" d=\"M688.902 1544.91 L705.221 1544.91 L705.221 1548.85 L683.277 1548.85 L683.277 1544.91 Q685.939 1542.16 690.522 1537.53 Q695.129 1532.88 696.309 1531.53 Q698.555 1529.01 699.434 1527.27 Q700.337 1525.51 700.337 1523.82 Q700.337 1521.07 698.393 1519.33 Q696.471 1517.6 693.369 1517.6 Q691.17 1517.6 688.717 1518.36 Q686.286 1519.13 683.508 1520.68 L683.508 1515.95 Q686.332 1514.82 688.786 1514.24 Q691.24 1513.66 693.277 1513.66 Q698.647 1513.66 701.842 1516.35 Q705.036 1519.03 705.036 1523.52 Q705.036 1525.65 704.226 1527.57 Q703.439 1529.47 701.332 1532.07 Q700.754 1532.74 697.652 1535.95 Q694.55 1539.15 688.902 1544.91 Z\" fill=\"#000000\" fill-rule=\"evenodd\" fill-opacity=\"1\" /><path clip-path=\"url(#clip210)\" d=\"M715.082 1514.29 L733.439 1514.29 L733.439 1518.22 L719.365 1518.22 L719.365 1526.7 Q720.383 1526.35 721.402 1526.19 Q722.42 1526 723.439 1526 Q729.226 1526 732.605 1529.17 Q735.985 1532.34 735.985 1537.76 Q735.985 1543.34 732.513 1546.44 Q729.041 1549.52 722.721 1549.52 Q720.545 1549.52 718.277 1549.15 Q716.031 1548.78 713.624 1548.04 L713.624 1543.34 Q715.707 1544.47 717.93 1545.03 Q720.152 1545.58 722.629 1545.58 Q726.633 1545.58 728.971 1543.48 Q731.309 1541.37 731.309 1537.76 Q731.309 1534.15 728.971 1532.04 Q726.633 1529.94 722.629 1529.94 Q720.754 1529.94 718.879 1530.35 Q717.027 1530.77 715.082 1531.65 L715.082 1514.29 Z\" fill=\"#000000\" fill-rule=\"evenodd\" fill-opacity=\"1\" /><path clip-path=\"url(#clip210)\" d=\"M1204.31 1514.29 L1222.66 1514.29 L1222.66 1518.22 L1208.59 1518.22 L1208.59 1526.7 Q1209.61 1526.35 1210.63 1526.19 Q1211.64 1526 1212.66 1526 Q1218.45 1526 1221.83 1529.17 Q1225.21 1532.34 1225.21 1537.76 Q1225.21 1543.34 1221.74 1546.44 Q1218.26 1549.52 1211.95 1549.52 Q1209.77 1549.52 1207.5 1549.15 Q1205.26 1548.78 1202.85 1548.04 L1202.85 1543.34 Q1204.93 1544.47 1207.15 1545.03 Q1209.38 1545.58 1211.85 1545.58 Q1215.86 1545.58 1218.2 1543.48 Q1220.53 1541.37 1220.53 1537.76 Q1220.53 1534.15 1218.2 1532.04 Q1215.86 1529.94 1211.85 1529.94 Q1209.98 1529.94 1208.1 1530.35 Q1206.25 1530.77 1204.31 1531.65 L1204.31 1514.29 Z\" fill=\"#000000\" fill-rule=\"evenodd\" fill-opacity=\"1\" /><path clip-path=\"url(#clip210)\" d=\"M1244.42 1517.37 Q1240.81 1517.37 1238.98 1520.93 Q1237.18 1524.47 1237.18 1531.6 Q1237.18 1538.71 1238.98 1542.27 Q1240.81 1545.82 1244.42 1545.82 Q1248.06 1545.82 1249.86 1542.27 Q1251.69 1538.71 1251.69 1531.6 Q1251.69 1524.47 1249.86 1520.93 Q1248.06 1517.37 1244.42 1517.37 M1244.42 1513.66 Q1250.23 1513.66 1253.29 1518.27 Q1256.37 1522.85 1256.37 1531.6 Q1256.37 1540.33 1253.29 1544.94 Q1250.23 1549.52 1244.42 1549.52 Q1238.61 1549.52 1235.53 1544.94 Q1232.48 1540.33 1232.48 1531.6 Q1232.48 1522.85 1235.53 1518.27 Q1238.61 1513.66 1244.42 1513.66 Z\" fill=\"#000000\" fill-rule=\"evenodd\" fill-opacity=\"1\" /><path clip-path=\"url(#clip210)\" d=\"M1723.44 1514.29 L1745.66 1514.29 L1745.66 1516.28 L1733.11 1548.85 L1728.23 1548.85 L1740.03 1518.22 L1723.44 1518.22 L1723.44 1514.29 Z\" fill=\"#000000\" fill-rule=\"evenodd\" fill-opacity=\"1\" /><path clip-path=\"url(#clip210)\" d=\"M1754.83 1514.29 L1773.18 1514.29 L1773.18 1518.22 L1759.11 1518.22 L1759.11 1526.7 Q1760.13 1526.35 1761.15 1526.19 Q1762.16 1526 1763.18 1526 Q1768.97 1526 1772.35 1529.17 Q1775.73 1532.34 1775.73 1537.76 Q1775.73 1543.34 1772.26 1546.44 Q1768.78 1549.52 1762.47 1549.52 Q1760.29 1549.52 1758.02 1549.15 Q1755.78 1548.78 1753.37 1548.04 L1753.37 1543.34 Q1755.45 1544.47 1757.67 1545.03 Q1759.9 1545.58 1762.37 1545.58 Q1766.38 1545.58 1768.72 1543.48 Q1771.05 1541.37 1771.05 1537.76 Q1771.05 1534.15 1768.72 1532.04 Q1766.38 1529.94 1762.37 1529.94 Q1760.5 1529.94 1758.62 1530.35 Q1756.77 1530.77 1754.83 1531.65 L1754.83 1514.29 Z\" fill=\"#000000\" fill-rule=\"evenodd\" fill-opacity=\"1\" /><path clip-path=\"url(#clip210)\" d=\"M2229.17 1544.91 L2236.81 1544.91 L2236.81 1518.55 L2228.5 1520.21 L2228.5 1515.95 L2236.76 1514.29 L2241.43 1514.29 L2241.43 1544.91 L2249.07 1544.91 L2249.07 1548.85 L2229.17 1548.85 L2229.17 1544.91 Z\" fill=\"#000000\" fill-rule=\"evenodd\" fill-opacity=\"1\" /><path clip-path=\"url(#clip210)\" d=\"M2268.52 1517.37 Q2264.91 1517.37 2263.08 1520.93 Q2261.27 1524.47 2261.27 1531.6 Q2261.27 1538.71 2263.08 1542.27 Q2264.91 1545.82 2268.52 1545.82 Q2272.15 1545.82 2273.96 1542.27 Q2275.79 1538.71 2275.79 1531.6 Q2275.79 1524.47 2273.96 1520.93 Q2272.15 1517.37 2268.52 1517.37 M2268.52 1513.66 Q2274.33 1513.66 2277.38 1518.27 Q2280.46 1522.85 2280.46 1531.6 Q2280.46 1540.33 2277.38 1544.94 Q2274.33 1549.52 2268.52 1549.52 Q2262.71 1549.52 2259.63 1544.94 Q2256.57 1540.33 2256.57 1531.6 Q2256.57 1522.85 2259.63 1518.27 Q2262.71 1513.66 2268.52 1513.66 Z\" fill=\"#000000\" fill-rule=\"evenodd\" fill-opacity=\"1\" /><path clip-path=\"url(#clip210)\" d=\"M2298.68 1517.37 Q2295.07 1517.37 2293.24 1520.93 Q2291.43 1524.47 2291.43 1531.6 Q2291.43 1538.71 2293.24 1542.27 Q2295.07 1545.82 2298.68 1545.82 Q2302.31 1545.82 2304.12 1542.27 Q2305.95 1538.71 2305.95 1531.6 Q2305.95 1524.47 2304.12 1520.93 Q2302.31 1517.37 2298.68 1517.37 M2298.68 1513.66 Q2304.49 1513.66 2307.55 1518.27 Q2310.62 1522.85 2310.62 1531.6 Q2310.62 1540.33 2307.55 1544.94 Q2304.49 1549.52 2298.68 1549.52 Q2292.87 1549.52 2289.79 1544.94 Q2286.74 1540.33 2286.74 1531.6 Q2286.74 1522.85 2289.79 1518.27 Q2292.87 1513.66 2298.68 1513.66 Z\" fill=\"#000000\" fill-rule=\"evenodd\" fill-opacity=\"1\" /><polyline clip-path=\"url(#clip212)\" style=\"stroke:#000000; stroke-linecap:butt; stroke-linejoin:round; stroke-width:2; stroke-opacity:0.1; fill:none\" points=\"\n",
       "  148.057,1285.24 2352.76,1285.24 \n",
       "  \"/>\n",
       "<polyline clip-path=\"url(#clip212)\" style=\"stroke:#000000; stroke-linecap:butt; stroke-linejoin:round; stroke-width:2; stroke-opacity:0.1; fill:none\" points=\"\n",
       "  148.057,1048.83 2352.76,1048.83 \n",
       "  \"/>\n",
       "<polyline clip-path=\"url(#clip212)\" style=\"stroke:#000000; stroke-linecap:butt; stroke-linejoin:round; stroke-width:2; stroke-opacity:0.1; fill:none\" points=\"\n",
       "  148.057,812.423 2352.76,812.423 \n",
       "  \"/>\n",
       "<polyline clip-path=\"url(#clip212)\" style=\"stroke:#000000; stroke-linecap:butt; stroke-linejoin:round; stroke-width:2; stroke-opacity:0.1; fill:none\" points=\"\n",
       "  148.057,576.013 2352.76,576.013 \n",
       "  \"/>\n",
       "<polyline clip-path=\"url(#clip212)\" style=\"stroke:#000000; stroke-linecap:butt; stroke-linejoin:round; stroke-width:2; stroke-opacity:0.1; fill:none\" points=\"\n",
       "  148.057,339.604 2352.76,339.604 \n",
       "  \"/>\n",
       "<polyline clip-path=\"url(#clip212)\" style=\"stroke:#000000; stroke-linecap:butt; stroke-linejoin:round; stroke-width:2; stroke-opacity:0.1; fill:none\" points=\"\n",
       "  148.057,103.195 2352.76,103.195 \n",
       "  \"/>\n",
       "<polyline clip-path=\"url(#clip210)\" style=\"stroke:#000000; stroke-linecap:butt; stroke-linejoin:round; stroke-width:4; stroke-opacity:1; fill:none\" points=\"\n",
       "  148.057,1486.45 148.057,47.2441 \n",
       "  \"/>\n",
       "<polyline clip-path=\"url(#clip210)\" style=\"stroke:#000000; stroke-linecap:butt; stroke-linejoin:round; stroke-width:4; stroke-opacity:1; fill:none\" points=\"\n",
       "  148.057,1285.24 166.954,1285.24 \n",
       "  \"/>\n",
       "<polyline clip-path=\"url(#clip210)\" style=\"stroke:#000000; stroke-linecap:butt; stroke-linejoin:round; stroke-width:4; stroke-opacity:1; fill:none\" points=\"\n",
       "  148.057,1048.83 166.954,1048.83 \n",
       "  \"/>\n",
       "<polyline clip-path=\"url(#clip210)\" style=\"stroke:#000000; stroke-linecap:butt; stroke-linejoin:round; stroke-width:4; stroke-opacity:1; fill:none\" points=\"\n",
       "  148.057,812.423 166.954,812.423 \n",
       "  \"/>\n",
       "<polyline clip-path=\"url(#clip210)\" style=\"stroke:#000000; stroke-linecap:butt; stroke-linejoin:round; stroke-width:4; stroke-opacity:1; fill:none\" points=\"\n",
       "  148.057,576.013 166.954,576.013 \n",
       "  \"/>\n",
       "<polyline clip-path=\"url(#clip210)\" style=\"stroke:#000000; stroke-linecap:butt; stroke-linejoin:round; stroke-width:4; stroke-opacity:1; fill:none\" points=\"\n",
       "  148.057,339.604 166.954,339.604 \n",
       "  \"/>\n",
       "<polyline clip-path=\"url(#clip210)\" style=\"stroke:#000000; stroke-linecap:butt; stroke-linejoin:round; stroke-width:4; stroke-opacity:1; fill:none\" points=\"\n",
       "  148.057,103.195 166.954,103.195 \n",
       "  \"/>\n",
       "<path clip-path=\"url(#clip210)\" d=\"M50.9921 1285.69 L80.6679 1285.69 L80.6679 1289.63 L50.9921 1289.63 L50.9921 1285.69 Z\" fill=\"#000000\" fill-rule=\"evenodd\" fill-opacity=\"1\" /><path clip-path=\"url(#clip210)\" d=\"M104.927 1283.89 Q108.283 1284.6 110.158 1286.87 Q112.057 1289.14 112.057 1292.47 Q112.057 1297.59 108.538 1300.39 Q105.02 1303.19 98.5382 1303.19 Q96.3623 1303.19 94.0475 1302.75 Q91.7558 1302.34 89.3021 1301.48 L89.3021 1296.97 Q91.2465 1298.1 93.5613 1298.68 Q95.8761 1299.26 98.3993 1299.26 Q102.797 1299.26 105.089 1297.52 Q107.404 1295.79 107.404 1292.47 Q107.404 1289.42 105.251 1287.71 Q103.121 1285.97 99.3021 1285.97 L95.2743 1285.97 L95.2743 1282.13 L99.4872 1282.13 Q102.936 1282.13 104.765 1280.76 Q106.594 1279.37 106.594 1276.78 Q106.594 1274.12 104.696 1272.71 Q102.821 1271.27 99.3021 1271.27 Q97.3808 1271.27 95.1817 1271.69 Q92.9826 1272.1 90.3438 1272.98 L90.3438 1268.82 Q93.0058 1268.08 95.3206 1267.71 Q97.6585 1267.34 99.7187 1267.34 Q105.043 1267.34 108.145 1269.77 Q111.246 1272.17 111.246 1276.29 Q111.246 1279.16 109.603 1281.16 Q107.959 1283.12 104.927 1283.89 Z\" fill=\"#000000\" fill-rule=\"evenodd\" fill-opacity=\"1\" /><path clip-path=\"url(#clip210)\" d=\"M51.9412 1049.28 L81.617 1049.28 L81.617 1053.22 L51.9412 1053.22 L51.9412 1049.28 Z\" fill=\"#000000\" fill-rule=\"evenodd\" fill-opacity=\"1\" /><path clip-path=\"url(#clip210)\" d=\"M95.7373 1062.18 L112.057 1062.18 L112.057 1066.11 L90.1123 1066.11 L90.1123 1062.18 Q92.7743 1059.42 97.3576 1054.79 Q101.964 1050.14 103.145 1048.8 Q105.39 1046.27 106.27 1044.54 Q107.172 1042.78 107.172 1041.09 Q107.172 1038.33 105.228 1036.6 Q103.307 1034.86 100.205 1034.86 Q98.0058 1034.86 95.5521 1035.63 Q93.1215 1036.39 90.3438 1037.94 L90.3438 1033.22 Q93.1678 1032.08 95.6215 1031.51 Q98.0752 1030.93 100.112 1030.93 Q105.483 1030.93 108.677 1033.61 Q111.871 1036.3 111.871 1040.79 Q111.871 1042.92 111.061 1044.84 Q110.274 1046.74 108.168 1049.33 Q107.589 1050 104.487 1053.22 Q101.385 1056.41 95.7373 1062.18 Z\" fill=\"#000000\" fill-rule=\"evenodd\" fill-opacity=\"1\" /><path clip-path=\"url(#clip210)\" d=\"M51.5708 812.874 L81.2466 812.874 L81.2466 816.809 L51.5708 816.809 L51.5708 812.874 Z\" fill=\"#000000\" fill-rule=\"evenodd\" fill-opacity=\"1\" /><path clip-path=\"url(#clip210)\" d=\"M92.1493 825.767 L99.7882 825.767 L99.7882 799.402 L91.478 801.069 L91.478 796.809 L99.7419 795.143 L104.418 795.143 L104.418 825.767 L112.057 825.767 L112.057 829.703 L92.1493 829.703 L92.1493 825.767 Z\" fill=\"#000000\" fill-rule=\"evenodd\" fill-opacity=\"1\" /><path clip-path=\"url(#clip210)\" d=\"M100.112 561.812 Q96.5011 561.812 94.6724 565.377 Q92.8669 568.918 92.8669 576.048 Q92.8669 583.155 94.6724 586.719 Q96.5011 590.261 100.112 590.261 Q103.746 590.261 105.552 586.719 Q107.381 583.155 107.381 576.048 Q107.381 568.918 105.552 565.377 Q103.746 561.812 100.112 561.812 M100.112 558.108 Q105.922 558.108 108.978 562.715 Q112.057 567.298 112.057 576.048 Q112.057 584.775 108.978 589.381 Q105.922 593.965 100.112 593.965 Q94.3021 593.965 91.2234 589.381 Q88.1679 584.775 88.1679 576.048 Q88.1679 567.298 91.2234 562.715 Q94.3021 558.108 100.112 558.108 Z\" fill=\"#000000\" fill-rule=\"evenodd\" fill-opacity=\"1\" /><path clip-path=\"url(#clip210)\" d=\"M92.1493 352.949 L99.7882 352.949 L99.7882 326.583 L91.478 328.25 L91.478 323.991 L99.7419 322.324 L104.418 322.324 L104.418 352.949 L112.057 352.949 L112.057 356.884 L92.1493 356.884 L92.1493 352.949 Z\" fill=\"#000000\" fill-rule=\"evenodd\" fill-opacity=\"1\" /><path clip-path=\"url(#clip210)\" d=\"M95.7373 116.54 L112.057 116.54 L112.057 120.475 L90.1123 120.475 L90.1123 116.54 Q92.7743 113.785 97.3576 109.155 Q101.964 104.503 103.145 103.16 Q105.39 100.637 106.27 98.9009 Q107.172 97.1416 107.172 95.4518 Q107.172 92.6972 105.228 90.9611 Q103.307 89.225 100.205 89.225 Q98.0058 89.225 95.5521 89.9889 Q93.1215 90.7528 90.3438 92.3037 L90.3438 87.5815 Q93.1678 86.4472 95.6215 85.8685 Q98.0752 85.2898 100.112 85.2898 Q105.483 85.2898 108.677 87.975 Q111.871 90.6602 111.871 95.1509 Q111.871 97.2805 111.061 99.2018 Q110.274 101.1 108.168 103.693 Q107.589 104.364 104.487 107.581 Q101.385 110.776 95.7373 116.54 Z\" fill=\"#000000\" fill-rule=\"evenodd\" fill-opacity=\"1\" /><polyline clip-path=\"url(#clip212)\" style=\"stroke:#009af9; stroke-linecap:butt; stroke-linejoin:round; stroke-width:4; stroke-opacity:1; fill:none\" points=\"\n",
       "  210.454,947.364 231.253,939.476 252.052,923.197 272.851,905.842 293.65,888.574 314.449,871.663 335.248,855.292 356.047,839.702 376.846,825.244 397.645,812.392 \n",
       "  418.444,801.761 439.243,794.08 460.042,790.133 480.841,790.611 501.64,795.885 522.44,805.793 543.239,819.628 564.038,836.426 584.837,855.317 605.636,875.663 \n",
       "  626.435,896.942 647.234,918.561 668.033,939.769 688.832,959.778 709.631,978.071 730.43,994.691 751.229,1010.18 772.028,1025.18 792.827,1040.05 813.626,1054.72 \n",
       "  834.425,1068.73 855.224,1081.4 876.023,1092.01 896.822,1099.85 917.621,1103.38 938.421,1093.32 959.22,1064.25 980.019,1021.9 1000.82,972.627 1021.62,920.68 \n",
       "  1042.42,867.8 1063.21,814.502 1084.01,761.039 1104.81,707.803 1125.61,655.408 1146.41,604.602 1167.21,556.103 1188.01,510.484 1208.81,468.141 1229.61,429.359 \n",
       "  1250.41,394.396 1271.21,363.472 1292,336.876 1312.8,314.331 1333.6,294.998 1354.4,278.093 1375.2,262.953 1396,248.977 1416.8,235.585 1437.6,222.201 \n",
       "  1458.4,208.295 1479.2,193.464 1499.99,177.562 1520.79,160.865 1541.59,144.163 1562.39,128.658 1583.19,115.617 1603.99,105.954 1624.79,100.011 1645.59,97.6153 \n",
       "  1666.39,98.2873 1687.19,101.44 1707.99,106.506 1728.78,112.988 1749.58,120.482 1770.38,128.665 1791.18,137.288 1811.98,146.157 1832.78,155.124 1853.58,164.069 \n",
       "  1874.38,172.901 1895.18,181.539 1915.98,189.915 1936.77,197.967 1957.57,205.634 1978.37,212.853 1999.17,219.559 2019.97,225.676 2040.77,231.124 2061.57,235.808 \n",
       "  2082.37,239.626 2103.17,242.461 2123.97,244.179 2144.77,244.63 2165.56,243.635 2186.36,240.992 2207.16,236.459 2227.96,229.773 2248.76,220.741 2269.56,210.031 \n",
       "  2290.36,204.671 \n",
       "  \"/>\n",
       "<polyline clip-path=\"url(#clip212)\" style=\"stroke:#e26f46; stroke-linecap:butt; stroke-linejoin:round; stroke-width:4; stroke-opacity:1; fill:none\" points=\"\n",
       "  210.454,576.013 231.253,595.647 252.052,636.518 272.851,680.832 293.65,726.03 314.449,771.822 335.248,818.224 356.047,865.234 376.846,912.752 397.645,960.553 \n",
       "  418.444,1008.28 439.243,1055.44 460.042,1101.38 480.841,1145.27 501.64,1186.06 522.44,1222.55 543.239,1253.43 564.038,1277.45 584.837,1293.59 605.636,1301.14 \n",
       "  626.435,1299.68 647.234,1289.05 668.033,1269.29 688.832,1240.65 709.631,1203.65 730.43,1159.18 751.229,1108.42 772.028,1052.72 792.827,993.518 813.626,932.309 \n",
       "  834.425,870.634 855.224,810.019 876.023,751.74 896.822,696.848 917.621,648.617 938.421,629.476 959.22,652.699 980.019,704.187 1000.82,767.874 1021.62,832.367 \n",
       "  1042.42,892.384 1063.21,946.039 1084.01,992.862 1104.81,1033.09 1125.61,1067.52 1146.41,1097.41 1167.21,1124.42 1188.01,1150.41 1208.81,1177.21 1229.61,1206.5 \n",
       "  1250.41,1239.67 1271.21,1277.75 1292,1316.63 1312.8,1350.51 1333.6,1377.52 1354.4,1397.08 1375.2,1409.2 1396,1414.19 1416.8,1412.47 1437.6,1404.54 \n",
       "  1458.4,1390.9 1479.2,1372.04 1499.99,1348.5 1520.79,1320.82 1541.59,1289.59 1562.39,1255.45 1583.19,1219.08 1603.99,1181.16 1624.79,1142.32 1645.59,1103.1 \n",
       "  1666.39,1063.92 1687.19,1025.12 1707.99,986.962 1728.78,949.635 1749.58,913.272 1770.38,877.968 1791.18,843.78 1811.98,810.747 1832.78,778.891 1853.58,748.228 \n",
       "  1874.38,718.777 1895.18,690.561 1915.98,663.614 1936.77,637.985 1957.57,613.742 1978.37,590.976 1999.17,569.808 2019.97,550.389 2040.77,532.908 2061.57,517.591 \n",
       "  2082.37,504.702 2103.17,494.549 2123.97,487.484 2144.77,483.91 2165.56,484.285 2186.36,489.135 2207.16,499.055 2227.96,514.689 2248.76,536.49 2269.56,562.767 \n",
       "  2290.36,576.016 \n",
       "  \"/>\n",
       "<polyline clip-path=\"url(#clip212)\" style=\"stroke:#009af9; stroke-linecap:butt; stroke-linejoin:round; stroke-width:4; stroke-opacity:1; fill:none\" stroke-dasharray=\"16, 10\" points=\"\n",
       "  210.454,947.364 231.253,939.565 252.052,923.445 272.851,906.201 293.65,889.017 314.449,872.179 335.248,855.88 356.047,840.369 376.846,826.003 397.645,813.268 \n",
       "  418.444,802.785 439.243,795.289 460.042,791.569 480.841,792.299 501.64,797.806 522.44,807.917 543.239,821.934 564.038,838.896 584.837,857.929 605.636,878.376 \n",
       "  626.435,899.692 647.234,921.265 668.033,942.346 688.832,962.163 709.631,980.222 730.43,996.58 751.229,1011.78 772.028,1026.46 792.827,1040.96 813.626,1055.23 \n",
       "  834.425,1068.8 855.224,1081 876.023,1091.12 896.822,1098.49 917.621,1101.56 938.421,1091.16 959.22,1061.97 980.019,1019.63 1000.82,970.356 1021.62,918.389 \n",
       "  1042.42,865.52 1063.21,812.324 1084.01,759.098 1104.81,706.257 1125.61,654.413 1146.41,604.292 1167.21,556.582 1188.01,511.834 1208.81,470.44 1229.61,432.703 \n",
       "  1250.41,398.915 1271.21,369.328 1292,344.125 1312.8,322.948 1333.6,304.95 1354.4,289.368 1375.2,275.649 1396,263.335 1416.8,251.949 1437.6,240.949 \n",
       "  1458.4,229.754 1479.2,217.779 1499.99,204.514 1520.79,189.648 1541.59,173.209 1562.39,155.631 1583.19,137.701 1603.99,120.486 1624.79,105.423 1645.59,94.1759 \n",
       "  1666.39,88.0873 1687.19,87.9763 1707.99,94.0643 1728.78,104.924 1749.58,117.598 1770.38,129.967 1791.18,141.216 1811.98,151.349 1832.78,160.6 1853.58,169.146 \n",
       "  1874.38,177.058 1895.18,184.347 1915.98,190.992 1936.77,196.957 1957.57,202.189 1978.37,206.619 1999.17,210.164 2019.97,212.725 2040.77,214.187 2061.57,214.423 \n",
       "  2082.37,213.287 2103.17,210.61 2123.97,206.193 2144.77,199.816 2165.56,191.257 2186.36,180.297 2207.16,166.628 2227.96,149.9 2248.76,129.863 2269.56,107.061 \n",
       "  2290.36,88.0227 \n",
       "  \"/>\n",
       "<polyline clip-path=\"url(#clip212)\" style=\"stroke:#e26f46; stroke-linecap:butt; stroke-linejoin:round; stroke-width:4; stroke-opacity:1; fill:none\" stroke-dasharray=\"16, 10\" points=\"\n",
       "  210.454,576.013 231.253,595.4 252.052,635.839 272.851,679.864 293.65,724.868 314.449,770.529 335.248,816.845 356.047,863.799 376.846,911.277 397.645,959.044 \n",
       "  418.444,1006.73 439.243,1053.83 460.042,1099.68 480.841,1143.45 501.64,1184.12 522.44,1220.49 543.239,1251.26 564.038,1275.2 584.837,1291.29 605.636,1298.79 \n",
       "  626.435,1297.3 647.234,1286.72 668.033,1267.05 688.832,1238.54 709.631,1201.72 730.43,1157.47 751.229,1106.95 772.028,1051.54 792.827,992.657 813.626,931.798 \n",
       "  834.425,870.505 855.224,810.285 876.023,752.393 896.822,697.853 917.621,649.898 938.421,630.725 959.22,653.325 980.019,703.874 1000.82,766.687 1021.62,830.494 \n",
       "  1042.42,889.964 1063.21,943.169 1084.01,989.639 1104.81,1029.64 1125.61,1063.99 1146.41,1093.98 1167.21,1121.26 1188.01,1147.65 1208.81,1174.95 1229.61,1204.79 \n",
       "  1250.41,1238.49 1271.21,1277.03 1292,1317.99 1312.8,1356.38 1333.6,1388.99 1354.4,1414.46 1375.2,1432.32 1396,1442.62 1416.8,1445.72 1437.6,1442.2 \n",
       "  1458.4,1432.73 1479.2,1418 1499.99,1398.83 1520.79,1376.2 1541.59,1351.08 1562.39,1324.3 1583.19,1296.04 1603.99,1265.33 1624.79,1229.7 1645.59,1187.95 \n",
       "  1666.39,1140.58 1687.19,1087.63 1707.99,1028.91 1728.78,967.861 1749.58,910.322 1770.38,859.108 1791.18,814.229 1811.98,774.364 1832.78,738.135 1853.58,704.61 \n",
       "  1874.38,673.259 1895.18,643.794 1915.98,616.047 1936.77,589.922 1957.57,565.384 1978.37,542.441 1999.17,521.152 2019.97,501.616 2040.77,483.975 2061.57,468.41 \n",
       "  2082.37,455.149 2103.17,444.483 2123.97,436.766 2144.77,432.399 2165.56,431.788 2186.36,435.313 2207.16,443.561 2227.96,457.209 2248.76,476.633 2269.56,500.145 \n",
       "  2290.36,510.964 \n",
       "  \"/>\n",
       "<path clip-path=\"url(#clip210)\" d=\"\n",
       "M221.547 354.418 L605.193 354.418 L605.193 95.2176 L221.547 95.2176  Z\n",
       "  \" fill=\"#ffffff\" fill-rule=\"evenodd\" fill-opacity=\"1\"/>\n",
       "<polyline clip-path=\"url(#clip210)\" style=\"stroke:#000000; stroke-linecap:butt; stroke-linejoin:round; stroke-width:4; stroke-opacity:1; fill:none\" points=\"\n",
       "  221.547,354.418 605.193,354.418 605.193,95.2176 221.547,95.2176 221.547,354.418 \n",
       "  \"/>\n",
       "<polyline clip-path=\"url(#clip210)\" style=\"stroke:#009af9; stroke-linecap:butt; stroke-linejoin:round; stroke-width:4; stroke-opacity:1; fill:none\" points=\"\n",
       "  246.043,147.058 393.023,147.058 \n",
       "  \"/>\n",
       "<path clip-path=\"url(#clip210)\" d=\"M432.705 142.393 Q431.987 141.977 431.131 141.791 Q430.298 141.583 429.279 141.583 Q425.668 141.583 423.724 143.944 Q421.802 146.282 421.802 150.68 L421.802 164.338 L417.52 164.338 L417.52 138.412 L421.802 138.412 L421.802 142.44 Q423.145 140.078 425.298 138.944 Q427.45 137.787 430.529 137.787 Q430.969 137.787 431.501 137.856 Q432.034 137.903 432.682 138.018 L432.705 142.393 Z\" fill=\"#000000\" fill-rule=\"evenodd\" fill-opacity=\"1\" /><path clip-path=\"url(#clip210)\" d=\"M458.307 150.31 L458.307 152.393 L438.723 152.393 Q439.001 156.791 441.362 159.106 Q443.747 161.398 447.983 161.398 Q450.436 161.398 452.728 160.796 Q455.043 160.194 457.311 158.99 L457.311 163.018 Q455.02 163.99 452.612 164.5 Q450.205 165.009 447.728 165.009 Q441.524 165.009 437.89 161.398 Q434.279 157.787 434.279 151.629 Q434.279 145.264 437.705 141.537 Q441.154 137.787 446.987 137.787 Q452.219 137.787 455.251 141.166 Q458.307 144.523 458.307 150.31 M454.047 149.06 Q454.001 145.565 452.08 143.481 Q450.182 141.398 447.034 141.398 Q443.469 141.398 441.316 143.412 Q439.186 145.426 438.862 149.083 L454.047 149.06 Z\" fill=\"#000000\" fill-rule=\"evenodd\" fill-opacity=\"1\" /><path clip-path=\"url(#clip210)\" d=\"M478.422 128.319 L478.422 131.861 L474.348 131.861 Q472.057 131.861 471.154 132.787 Q470.274 133.713 470.274 136.12 L470.274 138.412 L477.288 138.412 L477.288 141.722 L470.274 141.722 L470.274 164.338 L465.992 164.338 L465.992 141.722 L461.918 141.722 L461.918 138.412 L465.992 138.412 L465.992 136.606 Q465.992 132.278 468.006 130.31 Q470.02 128.319 474.395 128.319 L478.422 128.319 Z\" fill=\"#000000\" fill-rule=\"evenodd\" fill-opacity=\"1\" /><polyline clip-path=\"url(#clip210)\" style=\"stroke:#e26f46; stroke-linecap:butt; stroke-linejoin:round; stroke-width:4; stroke-opacity:1; fill:none\" points=\"\n",
       "  246.043,198.898 393.023,198.898 \n",
       "  \"/>\n",
       "<path clip-path=\"url(#clip210)\" d=\"M432.705 194.233 Q431.987 193.817 431.131 193.631 Q430.298 193.423 429.279 193.423 Q425.668 193.423 423.724 195.784 Q421.802 198.122 421.802 202.52 L421.802 216.178 L417.52 216.178 L417.52 190.252 L421.802 190.252 L421.802 194.28 Q423.145 191.918 425.298 190.784 Q427.45 189.627 430.529 189.627 Q430.969 189.627 431.501 189.696 Q432.034 189.743 432.682 189.858 L432.705 194.233 Z\" fill=\"#000000\" fill-rule=\"evenodd\" fill-opacity=\"1\" /><path clip-path=\"url(#clip210)\" d=\"M458.307 202.15 L458.307 204.233 L438.723 204.233 Q439.001 208.631 441.362 210.946 Q443.747 213.238 447.983 213.238 Q450.436 213.238 452.728 212.636 Q455.043 212.034 457.311 210.83 L457.311 214.858 Q455.02 215.83 452.612 216.34 Q450.205 216.849 447.728 216.849 Q441.524 216.849 437.89 213.238 Q434.279 209.627 434.279 203.469 Q434.279 197.104 437.705 193.377 Q441.154 189.627 446.987 189.627 Q452.219 189.627 455.251 193.006 Q458.307 196.363 458.307 202.15 M454.047 200.9 Q454.001 197.405 452.08 195.321 Q450.182 193.238 447.034 193.238 Q443.469 193.238 441.316 195.252 Q439.186 197.266 438.862 200.923 L454.047 200.9 Z\" fill=\"#000000\" fill-rule=\"evenodd\" fill-opacity=\"1\" /><path clip-path=\"url(#clip210)\" d=\"M478.422 180.159 L478.422 183.701 L474.348 183.701 Q472.057 183.701 471.154 184.627 Q470.274 185.553 470.274 187.96 L470.274 190.252 L477.288 190.252 L477.288 193.562 L470.274 193.562 L470.274 216.178 L465.992 216.178 L465.992 193.562 L461.918 193.562 L461.918 190.252 L465.992 190.252 L465.992 188.446 Q465.992 184.118 468.006 182.15 Q470.02 180.159 474.395 180.159 L478.422 180.159 Z\" fill=\"#000000\" fill-rule=\"evenodd\" fill-opacity=\"1\" /><polyline clip-path=\"url(#clip210)\" style=\"stroke:#009af9; stroke-linecap:butt; stroke-linejoin:round; stroke-width:4; stroke-opacity:1; fill:none\" stroke-dasharray=\"16, 10\" points=\"\n",
       "  246.043,250.738 393.023,250.738 \n",
       "  \"/>\n",
       "<path clip-path=\"url(#clip210)\" d=\"M430.923 254.985 Q425.761 254.985 423.77 256.166 Q421.779 257.346 421.779 260.194 Q421.779 262.462 423.261 263.805 Q424.765 265.124 427.335 265.124 Q430.876 265.124 433.006 262.624 Q435.159 260.101 435.159 255.934 L435.159 254.985 L430.923 254.985 M439.418 253.226 L439.418 268.018 L435.159 268.018 L435.159 264.082 Q433.7 266.443 431.524 267.578 Q429.349 268.689 426.2 268.689 Q422.219 268.689 419.858 266.467 Q417.52 264.221 417.52 260.471 Q417.52 256.096 420.437 253.874 Q423.376 251.652 429.186 251.652 L435.159 251.652 L435.159 251.235 Q435.159 248.295 433.214 246.698 Q431.293 245.078 427.798 245.078 Q425.575 245.078 423.469 245.61 Q421.362 246.143 419.418 247.207 L419.418 243.272 Q421.756 242.37 423.955 241.93 Q426.154 241.467 428.237 241.467 Q433.862 241.467 436.64 244.383 Q439.418 247.3 439.418 253.226 Z\" fill=\"#000000\" fill-rule=\"evenodd\" fill-opacity=\"1\" /><path clip-path=\"url(#clip210)\" d=\"M466.848 243.087 L466.848 247.069 Q465.043 246.073 463.214 245.587 Q461.409 245.078 459.557 245.078 Q455.413 245.078 453.122 247.717 Q450.83 250.332 450.83 255.078 Q450.83 259.823 453.122 262.462 Q455.413 265.078 459.557 265.078 Q461.409 265.078 463.214 264.592 Q465.043 264.082 466.848 263.087 L466.848 267.022 Q465.066 267.856 463.145 268.272 Q461.246 268.689 459.094 268.689 Q453.237 268.689 449.788 265.008 Q446.339 261.328 446.339 255.078 Q446.339 248.735 449.811 245.101 Q453.307 241.467 459.371 241.467 Q461.339 241.467 463.214 241.883 Q465.089 242.277 466.848 243.087 Z\" fill=\"#000000\" fill-rule=\"evenodd\" fill-opacity=\"1\" /><path clip-path=\"url(#clip210)\" d=\"M478.469 234.731 L478.469 242.092 L487.242 242.092 L487.242 245.402 L478.469 245.402 L478.469 259.476 Q478.469 262.647 479.325 263.55 Q480.205 264.453 482.867 264.453 L487.242 264.453 L487.242 268.018 L482.867 268.018 Q477.936 268.018 476.061 266.189 Q474.186 264.337 474.186 259.476 L474.186 245.402 L471.061 245.402 L471.061 242.092 L474.186 242.092 L474.186 234.731 L478.469 234.731 Z\" fill=\"#000000\" fill-rule=\"evenodd\" fill-opacity=\"1\" /><path clip-path=\"url(#clip210)\" d=\"M492.404 257.786 L492.404 242.092 L496.663 242.092 L496.663 257.624 Q496.663 261.305 498.098 263.156 Q499.533 264.985 502.404 264.985 Q505.853 264.985 507.843 262.786 Q509.857 260.587 509.857 256.791 L509.857 242.092 L514.117 242.092 L514.117 268.018 L509.857 268.018 L509.857 264.036 Q508.306 266.397 506.246 267.555 Q504.209 268.689 501.501 268.689 Q497.033 268.689 494.719 265.911 Q492.404 263.133 492.404 257.786 M503.121 241.467 L503.121 241.467 Z\" fill=\"#000000\" fill-rule=\"evenodd\" fill-opacity=\"1\" /><path clip-path=\"url(#clip210)\" d=\"M534.672 254.985 Q529.51 254.985 527.519 256.166 Q525.529 257.346 525.529 260.194 Q525.529 262.462 527.01 263.805 Q528.515 265.124 531.084 265.124 Q534.626 265.124 536.755 262.624 Q538.908 260.101 538.908 255.934 L538.908 254.985 L534.672 254.985 M543.167 253.226 L543.167 268.018 L538.908 268.018 L538.908 264.082 Q537.45 266.443 535.274 267.578 Q533.098 268.689 529.95 268.689 Q525.968 268.689 523.607 266.467 Q521.269 264.221 521.269 260.471 Q521.269 256.096 524.186 253.874 Q527.126 251.652 532.936 251.652 L538.908 251.652 L538.908 251.235 Q538.908 248.295 536.964 246.698 Q535.042 245.078 531.547 245.078 Q529.325 245.078 527.218 245.61 Q525.112 246.143 523.167 247.207 L523.167 243.272 Q525.505 242.37 527.704 241.93 Q529.904 241.467 531.987 241.467 Q537.612 241.467 540.39 244.383 Q543.167 247.3 543.167 253.226 Z\" fill=\"#000000\" fill-rule=\"evenodd\" fill-opacity=\"1\" /><path clip-path=\"url(#clip210)\" d=\"M551.94 231.999 L556.2 231.999 L556.2 268.018 L551.94 268.018 L551.94 231.999 Z\" fill=\"#000000\" fill-rule=\"evenodd\" fill-opacity=\"1\" /><polyline clip-path=\"url(#clip210)\" style=\"stroke:#e26f46; stroke-linecap:butt; stroke-linejoin:round; stroke-width:4; stroke-opacity:1; fill:none\" stroke-dasharray=\"16, 10\" points=\"\n",
       "  246.043,302.578 393.023,302.578 \n",
       "  \"/>\n",
       "<path clip-path=\"url(#clip210)\" d=\"M430.923 306.825 Q425.761 306.825 423.77 308.006 Q421.779 309.186 421.779 312.034 Q421.779 314.302 423.261 315.645 Q424.765 316.964 427.335 316.964 Q430.876 316.964 433.006 314.464 Q435.159 311.941 435.159 307.774 L435.159 306.825 L430.923 306.825 M439.418 305.066 L439.418 319.858 L435.159 319.858 L435.159 315.922 Q433.7 318.283 431.524 319.418 Q429.349 320.529 426.2 320.529 Q422.219 320.529 419.858 318.307 Q417.52 316.061 417.52 312.311 Q417.52 307.936 420.437 305.714 Q423.376 303.492 429.186 303.492 L435.159 303.492 L435.159 303.075 Q435.159 300.135 433.214 298.538 Q431.293 296.918 427.798 296.918 Q425.575 296.918 423.469 297.45 Q421.362 297.983 419.418 299.047 L419.418 295.112 Q421.756 294.21 423.955 293.77 Q426.154 293.307 428.237 293.307 Q433.862 293.307 436.64 296.223 Q439.418 299.14 439.418 305.066 Z\" fill=\"#000000\" fill-rule=\"evenodd\" fill-opacity=\"1\" /><path clip-path=\"url(#clip210)\" d=\"M466.848 294.927 L466.848 298.909 Q465.043 297.913 463.214 297.427 Q461.409 296.918 459.557 296.918 Q455.413 296.918 453.122 299.557 Q450.83 302.172 450.83 306.918 Q450.83 311.663 453.122 314.302 Q455.413 316.918 459.557 316.918 Q461.409 316.918 463.214 316.432 Q465.043 315.922 466.848 314.927 L466.848 318.862 Q465.066 319.696 463.145 320.112 Q461.246 320.529 459.094 320.529 Q453.237 320.529 449.788 316.848 Q446.339 313.168 446.339 306.918 Q446.339 300.575 449.811 296.941 Q453.307 293.307 459.371 293.307 Q461.339 293.307 463.214 293.723 Q465.089 294.117 466.848 294.927 Z\" fill=\"#000000\" fill-rule=\"evenodd\" fill-opacity=\"1\" /><path clip-path=\"url(#clip210)\" d=\"M478.469 286.571 L478.469 293.932 L487.242 293.932 L487.242 297.242 L478.469 297.242 L478.469 311.316 Q478.469 314.487 479.325 315.39 Q480.205 316.293 482.867 316.293 L487.242 316.293 L487.242 319.858 L482.867 319.858 Q477.936 319.858 476.061 318.029 Q474.186 316.177 474.186 311.316 L474.186 297.242 L471.061 297.242 L471.061 293.932 L474.186 293.932 L474.186 286.571 L478.469 286.571 Z\" fill=\"#000000\" fill-rule=\"evenodd\" fill-opacity=\"1\" /><path clip-path=\"url(#clip210)\" d=\"M492.404 309.626 L492.404 293.932 L496.663 293.932 L496.663 309.464 Q496.663 313.145 498.098 314.996 Q499.533 316.825 502.404 316.825 Q505.853 316.825 507.843 314.626 Q509.857 312.427 509.857 308.631 L509.857 293.932 L514.117 293.932 L514.117 319.858 L509.857 319.858 L509.857 315.876 Q508.306 318.237 506.246 319.395 Q504.209 320.529 501.501 320.529 Q497.033 320.529 494.719 317.751 Q492.404 314.973 492.404 309.626 M503.121 293.307 L503.121 293.307 Z\" fill=\"#000000\" fill-rule=\"evenodd\" fill-opacity=\"1\" /><path clip-path=\"url(#clip210)\" d=\"M534.672 306.825 Q529.51 306.825 527.519 308.006 Q525.529 309.186 525.529 312.034 Q525.529 314.302 527.01 315.645 Q528.515 316.964 531.084 316.964 Q534.626 316.964 536.755 314.464 Q538.908 311.941 538.908 307.774 L538.908 306.825 L534.672 306.825 M543.167 305.066 L543.167 319.858 L538.908 319.858 L538.908 315.922 Q537.45 318.283 535.274 319.418 Q533.098 320.529 529.95 320.529 Q525.968 320.529 523.607 318.307 Q521.269 316.061 521.269 312.311 Q521.269 307.936 524.186 305.714 Q527.126 303.492 532.936 303.492 L538.908 303.492 L538.908 303.075 Q538.908 300.135 536.964 298.538 Q535.042 296.918 531.547 296.918 Q529.325 296.918 527.218 297.45 Q525.112 297.983 523.167 299.047 L523.167 295.112 Q525.505 294.21 527.704 293.77 Q529.904 293.307 531.987 293.307 Q537.612 293.307 540.39 296.223 Q543.167 299.14 543.167 305.066 Z\" fill=\"#000000\" fill-rule=\"evenodd\" fill-opacity=\"1\" /><path clip-path=\"url(#clip210)\" d=\"M551.94 283.839 L556.2 283.839 L556.2 319.858 L551.94 319.858 L551.94 283.839 Z\" fill=\"#000000\" fill-rule=\"evenodd\" fill-opacity=\"1\" /></svg>\n"
      ]
     },
     "execution_count": 12,
     "metadata": {},
     "output_type": "execute_result"
    }
   ],
   "source": [
    "# compare the joint angles\n",
    "plot(states(altro), inds=1:2, label=\"ref\")\n",
    "plot!(Xsim, inds=1:2, color=[1 2], ls=:dash, legend=:topleft, label=\"actual\")"
   ]
  },
  {
   "cell_type": "code",
   "execution_count": 13,
   "metadata": {},
   "outputs": [
    {
     "data": {
      "image/svg+xml": [
       "<?xml version=\"1.0\" encoding=\"utf-8\"?>\n",
       "<svg xmlns=\"http://www.w3.org/2000/svg\" xmlns:xlink=\"http://www.w3.org/1999/xlink\" width=\"600\" height=\"400\" viewBox=\"0 0 2400 1600\">\n",
       "<defs>\n",
       "  <clipPath id=\"clip250\">\n",
       "    <rect x=\"0\" y=\"0\" width=\"2400\" height=\"1600\"/>\n",
       "  </clipPath>\n",
       "</defs>\n",
       "<path clip-path=\"url(#clip250)\" d=\"\n",
       "M0 1600 L2400 1600 L2400 0 L0 0  Z\n",
       "  \" fill=\"#ffffff\" fill-rule=\"evenodd\" fill-opacity=\"1\"/>\n",
       "<defs>\n",
       "  <clipPath id=\"clip251\">\n",
       "    <rect x=\"480\" y=\"0\" width=\"1681\" height=\"1600\"/>\n",
       "  </clipPath>\n",
       "</defs>\n",
       "<path clip-path=\"url(#clip250)\" d=\"\n",
       "M178.867 1486.45 L2352.76 1486.45 L2352.76 47.2441 L178.867 47.2441  Z\n",
       "  \" fill=\"#ffffff\" fill-rule=\"evenodd\" fill-opacity=\"1\"/>\n",
       "<defs>\n",
       "  <clipPath id=\"clip252\">\n",
       "    <rect x=\"178\" y=\"47\" width=\"2175\" height=\"1440\"/>\n",
       "  </clipPath>\n",
       "</defs>\n",
       "<polyline clip-path=\"url(#clip252)\" style=\"stroke:#000000; stroke-linecap:butt; stroke-linejoin:round; stroke-width:2; stroke-opacity:0.1; fill:none\" points=\"\n",
       "  219.676,1486.45 219.676,47.2441 \n",
       "  \"/>\n",
       "<polyline clip-path=\"url(#clip252)\" style=\"stroke:#000000; stroke-linecap:butt; stroke-linejoin:round; stroke-width:2; stroke-opacity:0.1; fill:none\" points=\"\n",
       "  737.565,1486.45 737.565,47.2441 \n",
       "  \"/>\n",
       "<polyline clip-path=\"url(#clip252)\" style=\"stroke:#000000; stroke-linecap:butt; stroke-linejoin:round; stroke-width:2; stroke-opacity:0.1; fill:none\" points=\"\n",
       "  1255.45,1486.45 1255.45,47.2441 \n",
       "  \"/>\n",
       "<polyline clip-path=\"url(#clip252)\" style=\"stroke:#000000; stroke-linecap:butt; stroke-linejoin:round; stroke-width:2; stroke-opacity:0.1; fill:none\" points=\"\n",
       "  1773.34,1486.45 1773.34,47.2441 \n",
       "  \"/>\n",
       "<polyline clip-path=\"url(#clip252)\" style=\"stroke:#000000; stroke-linecap:butt; stroke-linejoin:round; stroke-width:2; stroke-opacity:0.1; fill:none\" points=\"\n",
       "  2291.23,1486.45 2291.23,47.2441 \n",
       "  \"/>\n",
       "<polyline clip-path=\"url(#clip250)\" style=\"stroke:#000000; stroke-linecap:butt; stroke-linejoin:round; stroke-width:4; stroke-opacity:1; fill:none\" points=\"\n",
       "  178.867,1486.45 2352.76,1486.45 \n",
       "  \"/>\n",
       "<polyline clip-path=\"url(#clip250)\" style=\"stroke:#000000; stroke-linecap:butt; stroke-linejoin:round; stroke-width:4; stroke-opacity:1; fill:none\" points=\"\n",
       "  219.676,1486.45 219.676,1467.55 \n",
       "  \"/>\n",
       "<polyline clip-path=\"url(#clip250)\" style=\"stroke:#000000; stroke-linecap:butt; stroke-linejoin:round; stroke-width:4; stroke-opacity:1; fill:none\" points=\"\n",
       "  737.565,1486.45 737.565,1467.55 \n",
       "  \"/>\n",
       "<polyline clip-path=\"url(#clip250)\" style=\"stroke:#000000; stroke-linecap:butt; stroke-linejoin:round; stroke-width:4; stroke-opacity:1; fill:none\" points=\"\n",
       "  1255.45,1486.45 1255.45,1467.55 \n",
       "  \"/>\n",
       "<polyline clip-path=\"url(#clip250)\" style=\"stroke:#000000; stroke-linecap:butt; stroke-linejoin:round; stroke-width:4; stroke-opacity:1; fill:none\" points=\"\n",
       "  1773.34,1486.45 1773.34,1467.55 \n",
       "  \"/>\n",
       "<polyline clip-path=\"url(#clip250)\" style=\"stroke:#000000; stroke-linecap:butt; stroke-linejoin:round; stroke-width:4; stroke-opacity:1; fill:none\" points=\"\n",
       "  2291.23,1486.45 2291.23,1467.55 \n",
       "  \"/>\n",
       "<path clip-path=\"url(#clip250)\" d=\"M219.676 1517.37 Q216.065 1517.37 214.236 1520.93 Q212.431 1524.47 212.431 1531.6 Q212.431 1538.71 214.236 1542.27 Q216.065 1545.82 219.676 1545.82 Q223.31 1545.82 225.116 1542.27 Q226.945 1538.71 226.945 1531.6 Q226.945 1524.47 225.116 1520.93 Q223.31 1517.37 219.676 1517.37 M219.676 1513.66 Q225.486 1513.66 228.542 1518.27 Q231.621 1522.85 231.621 1531.6 Q231.621 1540.33 228.542 1544.94 Q225.486 1549.52 219.676 1549.52 Q213.866 1549.52 210.787 1544.94 Q207.732 1540.33 207.732 1531.6 Q207.732 1522.85 210.787 1518.27 Q213.866 1513.66 219.676 1513.66 Z\" fill=\"#000000\" fill-rule=\"evenodd\" fill-opacity=\"1\" /><path clip-path=\"url(#clip250)\" d=\"M716.836 1544.91 L733.155 1544.91 L733.155 1548.85 L711.211 1548.85 L711.211 1544.91 Q713.873 1542.16 718.456 1537.53 Q723.063 1532.88 724.243 1531.53 Q726.489 1529.01 727.368 1527.27 Q728.271 1525.51 728.271 1523.82 Q728.271 1521.07 726.327 1519.33 Q724.405 1517.6 721.303 1517.6 Q719.104 1517.6 716.651 1518.36 Q714.22 1519.13 711.442 1520.68 L711.442 1515.95 Q714.266 1514.82 716.72 1514.24 Q719.174 1513.66 721.211 1513.66 Q726.581 1513.66 729.776 1516.35 Q732.97 1519.03 732.97 1523.52 Q732.97 1525.65 732.16 1527.57 Q731.373 1529.47 729.266 1532.07 Q728.688 1532.74 725.586 1535.95 Q722.484 1539.15 716.836 1544.91 Z\" fill=\"#000000\" fill-rule=\"evenodd\" fill-opacity=\"1\" /><path clip-path=\"url(#clip250)\" d=\"M743.016 1514.29 L761.373 1514.29 L761.373 1518.22 L747.299 1518.22 L747.299 1526.7 Q748.317 1526.35 749.336 1526.19 Q750.354 1526 751.373 1526 Q757.16 1526 760.539 1529.17 Q763.919 1532.34 763.919 1537.76 Q763.919 1543.34 760.447 1546.44 Q756.974 1549.52 750.655 1549.52 Q748.479 1549.52 746.211 1549.15 Q743.965 1548.78 741.558 1548.04 L741.558 1543.34 Q743.641 1544.47 745.863 1545.03 Q748.086 1545.58 750.562 1545.58 Q754.567 1545.58 756.905 1543.48 Q759.243 1541.37 759.243 1537.76 Q759.243 1534.15 756.905 1532.04 Q754.567 1529.94 750.562 1529.94 Q748.688 1529.94 746.813 1530.35 Q744.961 1530.77 743.016 1531.65 L743.016 1514.29 Z\" fill=\"#000000\" fill-rule=\"evenodd\" fill-opacity=\"1\" /><path clip-path=\"url(#clip250)\" d=\"M1230.15 1514.29 L1248.51 1514.29 L1248.51 1518.22 L1234.44 1518.22 L1234.44 1526.7 Q1235.45 1526.35 1236.47 1526.19 Q1237.49 1526 1238.51 1526 Q1244.3 1526 1247.68 1529.17 Q1251.06 1532.34 1251.06 1537.76 Q1251.06 1543.34 1247.58 1546.44 Q1244.11 1549.52 1237.79 1549.52 Q1235.62 1549.52 1233.35 1549.15 Q1231.1 1548.78 1228.69 1548.04 L1228.69 1543.34 Q1230.78 1544.47 1233 1545.03 Q1235.22 1545.58 1237.7 1545.58 Q1241.7 1545.58 1244.04 1543.48 Q1246.38 1541.37 1246.38 1537.76 Q1246.38 1534.15 1244.04 1532.04 Q1241.7 1529.94 1237.7 1529.94 Q1235.82 1529.94 1233.95 1530.35 Q1232.1 1530.77 1230.15 1531.65 L1230.15 1514.29 Z\" fill=\"#000000\" fill-rule=\"evenodd\" fill-opacity=\"1\" /><path clip-path=\"url(#clip250)\" d=\"M1270.27 1517.37 Q1266.66 1517.37 1264.83 1520.93 Q1263.02 1524.47 1263.02 1531.6 Q1263.02 1538.71 1264.83 1542.27 Q1266.66 1545.82 1270.27 1545.82 Q1273.9 1545.82 1275.71 1542.27 Q1277.54 1538.71 1277.54 1531.6 Q1277.54 1524.47 1275.71 1520.93 Q1273.9 1517.37 1270.27 1517.37 M1270.27 1513.66 Q1276.08 1513.66 1279.13 1518.27 Q1282.21 1522.85 1282.21 1531.6 Q1282.21 1540.33 1279.13 1544.94 Q1276.08 1549.52 1270.27 1549.52 Q1264.46 1549.52 1261.38 1544.94 Q1258.32 1540.33 1258.32 1531.6 Q1258.32 1522.85 1261.38 1518.27 Q1264.46 1513.66 1270.27 1513.66 Z\" fill=\"#000000\" fill-rule=\"evenodd\" fill-opacity=\"1\" /><path clip-path=\"url(#clip250)\" d=\"M1747.2 1514.29 L1769.42 1514.29 L1769.42 1516.28 L1756.87 1548.85 L1751.99 1548.85 L1763.79 1518.22 L1747.2 1518.22 L1747.2 1514.29 Z\" fill=\"#000000\" fill-rule=\"evenodd\" fill-opacity=\"1\" /><path clip-path=\"url(#clip250)\" d=\"M1778.59 1514.29 L1796.94 1514.29 L1796.94 1518.22 L1782.87 1518.22 L1782.87 1526.7 Q1783.89 1526.35 1784.9 1526.19 Q1785.92 1526 1786.94 1526 Q1792.73 1526 1796.11 1529.17 Q1799.49 1532.34 1799.49 1537.76 Q1799.49 1543.34 1796.02 1546.44 Q1792.54 1549.52 1786.22 1549.52 Q1784.05 1549.52 1781.78 1549.15 Q1779.53 1548.78 1777.13 1548.04 L1777.13 1543.34 Q1779.21 1544.47 1781.43 1545.03 Q1783.65 1545.58 1786.13 1545.58 Q1790.14 1545.58 1792.47 1543.48 Q1794.81 1541.37 1794.81 1537.76 Q1794.81 1534.15 1792.47 1532.04 Q1790.14 1529.94 1786.13 1529.94 Q1784.26 1529.94 1782.38 1530.35 Q1780.53 1530.77 1778.59 1531.65 L1778.59 1514.29 Z\" fill=\"#000000\" fill-rule=\"evenodd\" fill-opacity=\"1\" /><path clip-path=\"url(#clip250)\" d=\"M2250.84 1544.91 L2258.48 1544.91 L2258.48 1518.55 L2250.17 1520.21 L2250.17 1515.95 L2258.43 1514.29 L2263.11 1514.29 L2263.11 1544.91 L2270.74 1544.91 L2270.74 1548.85 L2250.84 1548.85 L2250.84 1544.91 Z\" fill=\"#000000\" fill-rule=\"evenodd\" fill-opacity=\"1\" /><path clip-path=\"url(#clip250)\" d=\"M2290.19 1517.37 Q2286.58 1517.37 2284.75 1520.93 Q2282.94 1524.47 2282.94 1531.6 Q2282.94 1538.71 2284.75 1542.27 Q2286.58 1545.82 2290.19 1545.82 Q2293.82 1545.82 2295.63 1542.27 Q2297.46 1538.71 2297.46 1531.6 Q2297.46 1524.47 2295.63 1520.93 Q2293.82 1517.37 2290.19 1517.37 M2290.19 1513.66 Q2296 1513.66 2299.05 1518.27 Q2302.13 1522.85 2302.13 1531.6 Q2302.13 1540.33 2299.05 1544.94 Q2296 1549.52 2290.19 1549.52 Q2284.38 1549.52 2281.3 1544.94 Q2278.24 1540.33 2278.24 1531.6 Q2278.24 1522.85 2281.3 1518.27 Q2284.38 1513.66 2290.19 1513.66 Z\" fill=\"#000000\" fill-rule=\"evenodd\" fill-opacity=\"1\" /><path clip-path=\"url(#clip250)\" d=\"M2320.35 1517.37 Q2316.74 1517.37 2314.91 1520.93 Q2313.11 1524.47 2313.11 1531.6 Q2313.11 1538.71 2314.91 1542.27 Q2316.74 1545.82 2320.35 1545.82 Q2323.99 1545.82 2325.79 1542.27 Q2327.62 1538.71 2327.62 1531.6 Q2327.62 1524.47 2325.79 1520.93 Q2323.99 1517.37 2320.35 1517.37 M2320.35 1513.66 Q2326.16 1513.66 2329.22 1518.27 Q2332.3 1522.85 2332.3 1531.6 Q2332.3 1540.33 2329.22 1544.94 Q2326.16 1549.52 2320.35 1549.52 Q2314.54 1549.52 2311.46 1544.94 Q2308.41 1540.33 2308.41 1531.6 Q2308.41 1522.85 2311.46 1518.27 Q2314.54 1513.66 2320.35 1513.66 Z\" fill=\"#000000\" fill-rule=\"evenodd\" fill-opacity=\"1\" /><polyline clip-path=\"url(#clip252)\" style=\"stroke:#000000; stroke-linecap:butt; stroke-linejoin:round; stroke-width:2; stroke-opacity:0.1; fill:none\" points=\"\n",
       "  178.867,1445.72 2352.76,1445.72 \n",
       "  \"/>\n",
       "<polyline clip-path=\"url(#clip252)\" style=\"stroke:#000000; stroke-linecap:butt; stroke-linejoin:round; stroke-width:2; stroke-opacity:0.1; fill:none\" points=\"\n",
       "  178.867,1106.28 2352.76,1106.28 \n",
       "  \"/>\n",
       "<polyline clip-path=\"url(#clip252)\" style=\"stroke:#000000; stroke-linecap:butt; stroke-linejoin:round; stroke-width:2; stroke-opacity:0.1; fill:none\" points=\"\n",
       "  178.867,766.846 2352.76,766.846 \n",
       "  \"/>\n",
       "<polyline clip-path=\"url(#clip252)\" style=\"stroke:#000000; stroke-linecap:butt; stroke-linejoin:round; stroke-width:2; stroke-opacity:0.1; fill:none\" points=\"\n",
       "  178.867,427.411 2352.76,427.411 \n",
       "  \"/>\n",
       "<polyline clip-path=\"url(#clip252)\" style=\"stroke:#000000; stroke-linecap:butt; stroke-linejoin:round; stroke-width:2; stroke-opacity:0.1; fill:none\" points=\"\n",
       "  178.867,87.9763 2352.76,87.9763 \n",
       "  \"/>\n",
       "<polyline clip-path=\"url(#clip250)\" style=\"stroke:#000000; stroke-linecap:butt; stroke-linejoin:round; stroke-width:4; stroke-opacity:1; fill:none\" points=\"\n",
       "  178.867,1486.45 178.867,47.2441 \n",
       "  \"/>\n",
       "<polyline clip-path=\"url(#clip250)\" style=\"stroke:#000000; stroke-linecap:butt; stroke-linejoin:round; stroke-width:4; stroke-opacity:1; fill:none\" points=\"\n",
       "  178.867,1445.72 197.764,1445.72 \n",
       "  \"/>\n",
       "<polyline clip-path=\"url(#clip250)\" style=\"stroke:#000000; stroke-linecap:butt; stroke-linejoin:round; stroke-width:4; stroke-opacity:1; fill:none\" points=\"\n",
       "  178.867,1106.28 197.764,1106.28 \n",
       "  \"/>\n",
       "<polyline clip-path=\"url(#clip250)\" style=\"stroke:#000000; stroke-linecap:butt; stroke-linejoin:round; stroke-width:4; stroke-opacity:1; fill:none\" points=\"\n",
       "  178.867,766.846 197.764,766.846 \n",
       "  \"/>\n",
       "<polyline clip-path=\"url(#clip250)\" style=\"stroke:#000000; stroke-linecap:butt; stroke-linejoin:round; stroke-width:4; stroke-opacity:1; fill:none\" points=\"\n",
       "  178.867,427.411 197.764,427.411 \n",
       "  \"/>\n",
       "<polyline clip-path=\"url(#clip250)\" style=\"stroke:#000000; stroke-linecap:butt; stroke-linejoin:round; stroke-width:4; stroke-opacity:1; fill:none\" points=\"\n",
       "  178.867,87.9763 197.764,87.9763 \n",
       "  \"/>\n",
       "<path clip-path=\"url(#clip250)\" d=\"M50.9921 1446.17 L80.6679 1446.17 L80.6679 1450.1 L50.9921 1450.1 L50.9921 1446.17 Z\" fill=\"#000000\" fill-rule=\"evenodd\" fill-opacity=\"1\" /><path clip-path=\"url(#clip250)\" d=\"M94.7882 1459.06 L111.108 1459.06 L111.108 1463 L89.1632 1463 L89.1632 1459.06 Q91.8252 1456.31 96.4085 1451.68 Q101.015 1447.02 102.196 1445.68 Q104.441 1443.16 105.321 1441.42 Q106.223 1439.66 106.223 1437.97 Q106.223 1435.22 104.279 1433.48 Q102.358 1431.75 99.2558 1431.75 Q97.0567 1431.75 94.603 1432.51 Q92.1725 1433.27 89.3947 1434.82 L89.3947 1430.1 Q92.2188 1428.97 94.6724 1428.39 Q97.1261 1427.81 99.1632 1427.81 Q104.534 1427.81 107.728 1430.5 Q110.922 1433.18 110.922 1437.67 Q110.922 1439.8 110.112 1441.72 Q109.325 1443.62 107.219 1446.21 Q106.64 1446.88 103.538 1450.1 Q100.436 1453.3 94.7882 1459.06 Z\" fill=\"#000000\" fill-rule=\"evenodd\" fill-opacity=\"1\" /><path clip-path=\"url(#clip250)\" d=\"M130.922 1431.51 Q127.311 1431.51 125.482 1435.08 Q123.677 1438.62 123.677 1445.75 Q123.677 1452.86 125.482 1456.42 Q127.311 1459.96 130.922 1459.96 Q134.556 1459.96 136.362 1456.42 Q138.191 1452.86 138.191 1445.75 Q138.191 1438.62 136.362 1435.08 Q134.556 1431.51 130.922 1431.51 M130.922 1427.81 Q136.732 1427.81 139.788 1432.42 Q142.867 1437 142.867 1445.75 Q142.867 1454.48 139.788 1459.08 Q136.732 1463.67 130.922 1463.67 Q125.112 1463.67 122.033 1459.08 Q118.978 1454.48 118.978 1445.75 Q118.978 1437 122.033 1432.42 Q125.112 1427.81 130.922 1427.81 Z\" fill=\"#000000\" fill-rule=\"evenodd\" fill-opacity=\"1\" /><path clip-path=\"url(#clip250)\" d=\"M50.9921 1106.73 L80.6679 1106.73 L80.6679 1110.67 L50.9921 1110.67 L50.9921 1106.73 Z\" fill=\"#000000\" fill-rule=\"evenodd\" fill-opacity=\"1\" /><path clip-path=\"url(#clip250)\" d=\"M91.5706 1119.63 L99.2095 1119.63 L99.2095 1093.26 L90.8993 1094.93 L90.8993 1090.67 L99.1632 1089 L103.839 1089 L103.839 1119.63 L111.478 1119.63 L111.478 1123.56 L91.5706 1123.56 L91.5706 1119.63 Z\" fill=\"#000000\" fill-rule=\"evenodd\" fill-opacity=\"1\" /><path clip-path=\"url(#clip250)\" d=\"M130.922 1092.08 Q127.311 1092.08 125.482 1095.64 Q123.677 1099.19 123.677 1106.32 Q123.677 1113.42 125.482 1116.99 Q127.311 1120.53 130.922 1120.53 Q134.556 1120.53 136.362 1116.99 Q138.191 1113.42 138.191 1106.32 Q138.191 1099.19 136.362 1095.64 Q134.556 1092.08 130.922 1092.08 M130.922 1088.38 Q136.732 1088.38 139.788 1092.98 Q142.867 1097.57 142.867 1106.32 Q142.867 1115.04 139.788 1119.65 Q136.732 1124.23 130.922 1124.23 Q125.112 1124.23 122.033 1119.65 Q118.978 1115.04 118.978 1106.32 Q118.978 1097.57 122.033 1092.98 Q125.112 1088.38 130.922 1088.38 Z\" fill=\"#000000\" fill-rule=\"evenodd\" fill-opacity=\"1\" /><path clip-path=\"url(#clip250)\" d=\"M130.922 752.645 Q127.311 752.645 125.482 756.209 Q123.677 759.751 123.677 766.881 Q123.677 773.987 125.482 777.552 Q127.311 781.094 130.922 781.094 Q134.556 781.094 136.362 777.552 Q138.191 773.987 138.191 766.881 Q138.191 759.751 136.362 756.209 Q134.556 752.645 130.922 752.645 M130.922 748.941 Q136.732 748.941 139.788 753.547 Q142.867 758.131 142.867 766.881 Q142.867 775.607 139.788 780.214 Q136.732 784.797 130.922 784.797 Q125.112 784.797 122.033 780.214 Q118.978 775.607 118.978 766.881 Q118.978 758.131 122.033 753.547 Q125.112 748.941 130.922 748.941 Z\" fill=\"#000000\" fill-rule=\"evenodd\" fill-opacity=\"1\" /><path clip-path=\"url(#clip250)\" d=\"M91.5706 440.756 L99.2095 440.756 L99.2095 414.39 L90.8993 416.057 L90.8993 411.798 L99.1632 410.131 L103.839 410.131 L103.839 440.756 L111.478 440.756 L111.478 444.691 L91.5706 444.691 L91.5706 440.756 Z\" fill=\"#000000\" fill-rule=\"evenodd\" fill-opacity=\"1\" /><path clip-path=\"url(#clip250)\" d=\"M130.922 413.21 Q127.311 413.21 125.482 416.775 Q123.677 420.316 123.677 427.446 Q123.677 434.552 125.482 438.117 Q127.311 441.659 130.922 441.659 Q134.556 441.659 136.362 438.117 Q138.191 434.552 138.191 427.446 Q138.191 420.316 136.362 416.775 Q134.556 413.21 130.922 413.21 M130.922 409.506 Q136.732 409.506 139.788 414.113 Q142.867 418.696 142.867 427.446 Q142.867 436.173 139.788 440.779 Q136.732 445.362 130.922 445.362 Q125.112 445.362 122.033 440.779 Q118.978 436.173 118.978 427.446 Q118.978 418.696 122.033 414.113 Q125.112 409.506 130.922 409.506 Z\" fill=\"#000000\" fill-rule=\"evenodd\" fill-opacity=\"1\" /><path clip-path=\"url(#clip250)\" d=\"M94.7882 101.321 L111.108 101.321 L111.108 105.256 L89.1632 105.256 L89.1632 101.321 Q91.8252 98.5665 96.4085 93.9369 Q101.015 89.2841 102.196 87.9416 Q104.441 85.4184 105.321 83.6823 Q106.223 81.9231 106.223 80.2333 Q106.223 77.4786 104.279 75.7425 Q102.358 74.0064 99.2558 74.0064 Q97.0567 74.0064 94.603 74.7703 Q92.1725 75.5342 89.3947 77.0851 L89.3947 72.3629 Q92.2188 71.2287 94.6724 70.65 Q97.1261 70.0713 99.1632 70.0713 Q104.534 70.0713 107.728 72.7565 Q110.922 75.4416 110.922 79.9323 Q110.922 82.062 110.112 83.9832 Q109.325 85.8814 107.219 88.474 Q106.64 89.1453 103.538 92.3628 Q100.436 95.5573 94.7882 101.321 Z\" fill=\"#000000\" fill-rule=\"evenodd\" fill-opacity=\"1\" /><path clip-path=\"url(#clip250)\" d=\"M130.922 73.775 Q127.311 73.775 125.482 77.3398 Q123.677 80.8814 123.677 88.011 Q123.677 95.1174 125.482 98.6822 Q127.311 102.224 130.922 102.224 Q134.556 102.224 136.362 98.6822 Q138.191 95.1174 138.191 88.011 Q138.191 80.8814 136.362 77.3398 Q134.556 73.775 130.922 73.775 M130.922 70.0713 Q136.732 70.0713 139.788 74.6777 Q142.867 79.261 142.867 88.011 Q142.867 96.7378 139.788 101.344 Q136.732 105.928 130.922 105.928 Q125.112 105.928 122.033 101.344 Q118.978 96.7378 118.978 88.011 Q118.978 79.261 122.033 74.6777 Q125.112 70.0713 130.922 70.0713 Z\" fill=\"#000000\" fill-rule=\"evenodd\" fill-opacity=\"1\" /><polyline clip-path=\"url(#clip252)\" style=\"stroke:#009af9; stroke-linecap:butt; stroke-linejoin:round; stroke-width:4; stroke-opacity:1; fill:none\" points=\"\n",
       "  240.392,1364.29 261.107,1041.72 281.823,1050.72 302.538,1108.3 323.254,1172 343.97,1233.45 364.685,1287.69 385.401,1329.27 406.116,1352.54 426.832,1352.43 \n",
       "  447.547,1324.86 468.263,1267.07 488.978,1178.28 509.694,1060.85 530.409,921.587 551.125,771.827 571.841,625.477 592.556,495.39 613.272,390.016 633.987,312.454 \n",
       "  654.703,262.092 675.418,237.825 696.134,241.456 716.849,278.639 737.565,354.569 758.28,466.338 778.996,599.319 799.712,731.427 820.427,840.029 841.143,906.77 \n",
       "  861.858,921.913 882.574,890.58 903.289,841.086 924.005,865.979 944.72,1445.72 965.436,1445.72 986.151,1445.72 1006.87,1445.72 1027.58,1445.72 1048.3,1445.72 \n",
       "  1069.01,1445.72 1089.73,1445.72 1110.44,1445.72 1131.16,1445.72 1151.88,1445.72 1172.59,1445.72 1193.31,1445.72 1214.02,1445.72 1234.74,1445.72 1255.45,1445.72 \n",
       "  1276.17,1445.72 1296.88,854.57 1317.6,659.745 1338.32,577.86 1359.03,547.436 1379.75,536.999 1400.46,531.294 1421.18,523.206 1441.89,509.814 1462.61,490.58 \n",
       "  1483.32,466.506 1504.04,439.722 1524.76,413.244 1545.47,390.681 1566.19,375.613 1586.9,370.437 1607.62,375.263 1628.33,387.95 1649.05,405.331 1669.76,424.521 \n",
       "  1690.48,443.563 1711.2,461.469 1731.91,478.005 1752.63,493.418 1773.34,508.21 1794.06,522.958 1814.77,538.183 1835.49,554.272 1856.2,571.449 1876.92,589.799 \n",
       "  1897.64,609.306 1918.35,629.91 1939.07,651.537 1959.78,674.121 1980.5,697.606 2001.21,721.937 2021.93,747.043 2042.64,772.811 2063.36,799.073 2084.08,825.577 \n",
       "  2104.79,851.971 2125.51,877.781 2146.22,902.414 2166.94,925.168 2187.65,945.288 2208.37,962.004 2229.08,974.085 2249.8,975.054 2270.52,914.86 2291.23,426.769 \n",
       "  \n",
       "  \"/>\n",
       "<polyline clip-path=\"url(#clip252)\" style=\"stroke:#e26f46; stroke-linecap:butt; stroke-linejoin:round; stroke-width:4; stroke-opacity:1; fill:none\" points=\"\n",
       "  240.392,1364.29 261.107,1046.84 281.823,1054.33 302.538,1111.05 323.254,1174.37 343.97,1235.62 364.685,1289.73 385.401,1331.22 406.116,1354.45 426.832,1354.35 \n",
       "  447.547,1326.89 468.263,1269.36 488.978,1181.03 509.694,1064.9 530.409,927.255 551.125,778.291 571.841,631.725 592.556,500.703 613.272,394.304 633.987,316.087 \n",
       "  654.703,263.29 675.418,237.017 696.134,239.752 716.849,276.423 737.565,351.751 758.28,462.574 778.996,594.283 799.712,725.004 820.427,832.398 841.143,898.445 \n",
       "  861.858,913.729 882.574,883.451 903.289,835.54 924.005,862.028 944.72,1443.84 965.436,1445.72 986.151,1445.72 1006.87,1445.72 1027.58,1445.72 1048.3,1445.72 \n",
       "  1069.01,1445.72 1089.73,1445.72 1110.44,1445.72 1131.16,1445.72 1151.88,1445.72 1172.59,1445.72 1193.31,1445.72 1214.02,1445.72 1234.74,1445.72 1255.45,1445.72 \n",
       "  1276.17,1445.72 1296.88,1077.19 1317.6,788.099 1338.32,656.244 1359.03,598.295 1379.75,575.054 1400.46,567.913 1421.18,567.062 1441.89,566.739 1462.61,562.156 \n",
       "  1483.32,560.255 1504.04,563.376 1524.76,571.249 1545.47,577.347 1566.19,563.027 1586.9,495.136 1607.62,335.554 1628.33,87.9763 1649.05,87.9763 1669.76,87.9763 \n",
       "  1690.48,87.9763 1711.2,132.038 1731.91,536.048 1752.63,723.898 1773.34,730.229 1794.06,674.115 1814.77,628.103 1835.49,609.41 1856.2,610.85 1876.92,622.95 \n",
       "  1897.64,640.277 1918.35,660.419 1939.07,682.287 1959.78,705.314 1980.5,729.18 2001.21,753.696 2021.93,778.738 2042.64,804.205 2063.36,829.999 2084.08,855.957 \n",
       "  2104.79,881.665 2125.51,906.406 2146.22,929.439 2166.94,950.141 2187.65,968.948 2208.37,984.564 2229.08,992.368 2249.8,985.369 2270.52,913.527 2291.23,411.038 \n",
       "  \n",
       "  \"/>\n",
       "<path clip-path=\"url(#clip250)\" d=\"\n",
       "M1900.07 250.738 L2280.29 250.738 L2280.29 95.2176 L1900.07 95.2176  Z\n",
       "  \" fill=\"#ffffff\" fill-rule=\"evenodd\" fill-opacity=\"1\"/>\n",
       "<polyline clip-path=\"url(#clip250)\" style=\"stroke:#000000; stroke-linecap:butt; stroke-linejoin:round; stroke-width:4; stroke-opacity:1; fill:none\" points=\"\n",
       "  1900.07,250.738 2280.29,250.738 2280.29,95.2176 1900.07,95.2176 1900.07,250.738 \n",
       "  \"/>\n",
       "<polyline clip-path=\"url(#clip250)\" style=\"stroke:#009af9; stroke-linecap:butt; stroke-linejoin:round; stroke-width:4; stroke-opacity:1; fill:none\" points=\"\n",
       "  1924.22,147.058 2069.15,147.058 \n",
       "  \"/>\n",
       "<path clip-path=\"url(#clip250)\" d=\"M2108.49 142.393 Q2107.77 141.977 2106.92 141.791 Q2106.08 141.583 2105.06 141.583 Q2101.45 141.583 2099.51 143.944 Q2097.59 146.282 2097.59 150.68 L2097.59 164.338 L2093.3 164.338 L2093.3 138.412 L2097.59 138.412 L2097.59 142.44 Q2098.93 140.078 2101.08 138.944 Q2103.23 137.787 2106.31 137.787 Q2106.75 137.787 2107.29 137.856 Q2107.82 137.903 2108.47 138.018 L2108.49 142.393 Z\" fill=\"#000000\" fill-rule=\"evenodd\" fill-opacity=\"1\" /><path clip-path=\"url(#clip250)\" d=\"M2134.09 150.31 L2134.09 152.393 L2114.51 152.393 Q2114.79 156.791 2117.15 159.106 Q2119.53 161.398 2123.77 161.398 Q2126.22 161.398 2128.51 160.796 Q2130.83 160.194 2133.1 158.99 L2133.1 163.018 Q2130.8 163.99 2128.4 164.5 Q2125.99 165.009 2123.51 165.009 Q2117.31 165.009 2113.67 161.398 Q2110.06 157.787 2110.06 151.629 Q2110.06 145.264 2113.49 141.537 Q2116.94 137.787 2122.77 137.787 Q2128 137.787 2131.04 141.166 Q2134.09 144.523 2134.09 150.31 M2129.83 149.06 Q2129.79 145.565 2127.86 143.481 Q2125.97 141.398 2122.82 141.398 Q2119.25 141.398 2117.1 143.412 Q2114.97 145.426 2114.65 149.083 L2129.83 149.06 Z\" fill=\"#000000\" fill-rule=\"evenodd\" fill-opacity=\"1\" /><path clip-path=\"url(#clip250)\" d=\"M2154.21 128.319 L2154.21 131.861 L2150.13 131.861 Q2147.84 131.861 2146.94 132.787 Q2146.06 133.713 2146.06 136.12 L2146.06 138.412 L2153.07 138.412 L2153.07 141.722 L2146.06 141.722 L2146.06 164.338 L2141.78 164.338 L2141.78 141.722 L2137.7 141.722 L2137.7 138.412 L2141.78 138.412 L2141.78 136.606 Q2141.78 132.278 2143.79 130.31 Q2145.8 128.319 2150.18 128.319 L2154.21 128.319 Z\" fill=\"#000000\" fill-rule=\"evenodd\" fill-opacity=\"1\" /><polyline clip-path=\"url(#clip250)\" style=\"stroke:#e26f46; stroke-linecap:butt; stroke-linejoin:round; stroke-width:4; stroke-opacity:1; fill:none\" points=\"\n",
       "  1924.22,198.898 2069.15,198.898 \n",
       "  \"/>\n",
       "<path clip-path=\"url(#clip250)\" d=\"M2106.71 203.145 Q2101.55 203.145 2099.55 204.326 Q2097.56 205.506 2097.56 208.354 Q2097.56 210.622 2099.05 211.965 Q2100.55 213.284 2103.12 213.284 Q2106.66 213.284 2108.79 210.784 Q2110.94 208.261 2110.94 204.094 L2110.94 203.145 L2106.71 203.145 M2115.2 201.386 L2115.2 216.178 L2110.94 216.178 L2110.94 212.242 Q2109.48 214.603 2107.31 215.738 Q2105.13 216.849 2101.98 216.849 Q2098 216.849 2095.64 214.627 Q2093.3 212.381 2093.3 208.631 Q2093.3 204.256 2096.22 202.034 Q2099.16 199.812 2104.97 199.812 L2110.94 199.812 L2110.94 199.395 Q2110.94 196.455 2109 194.858 Q2107.08 193.238 2103.58 193.238 Q2101.36 193.238 2099.25 193.77 Q2097.15 194.303 2095.2 195.367 L2095.2 191.432 Q2097.54 190.53 2099.74 190.09 Q2101.94 189.627 2104.02 189.627 Q2109.65 189.627 2112.42 192.543 Q2115.2 195.46 2115.2 201.386 Z\" fill=\"#000000\" fill-rule=\"evenodd\" fill-opacity=\"1\" /><path clip-path=\"url(#clip250)\" d=\"M2142.63 191.247 L2142.63 195.229 Q2140.83 194.233 2139 193.747 Q2137.19 193.238 2135.34 193.238 Q2131.2 193.238 2128.91 195.877 Q2126.61 198.492 2126.61 203.238 Q2126.61 207.983 2128.91 210.622 Q2131.2 213.238 2135.34 213.238 Q2137.19 213.238 2139 212.752 Q2140.83 212.242 2142.63 211.247 L2142.63 215.182 Q2140.85 216.016 2138.93 216.432 Q2137.03 216.849 2134.88 216.849 Q2129.02 216.849 2125.57 213.168 Q2122.12 209.488 2122.12 203.238 Q2122.12 196.895 2125.6 193.261 Q2129.09 189.627 2135.16 189.627 Q2137.12 189.627 2139 190.043 Q2140.87 190.437 2142.63 191.247 Z\" fill=\"#000000\" fill-rule=\"evenodd\" fill-opacity=\"1\" /><path clip-path=\"url(#clip250)\" d=\"M2154.25 182.891 L2154.25 190.252 L2163.03 190.252 L2163.03 193.562 L2154.25 193.562 L2154.25 207.636 Q2154.25 210.807 2155.11 211.71 Q2155.99 212.613 2158.65 212.613 L2163.03 212.613 L2163.03 216.178 L2158.65 216.178 Q2153.72 216.178 2151.85 214.349 Q2149.97 212.497 2149.97 207.636 L2149.97 193.562 L2146.85 193.562 L2146.85 190.252 L2149.97 190.252 L2149.97 182.891 L2154.25 182.891 Z\" fill=\"#000000\" fill-rule=\"evenodd\" fill-opacity=\"1\" /><path clip-path=\"url(#clip250)\" d=\"M2168.19 205.946 L2168.19 190.252 L2172.45 190.252 L2172.45 205.784 Q2172.45 209.465 2173.88 211.316 Q2175.32 213.145 2178.19 213.145 Q2181.64 213.145 2183.63 210.946 Q2185.64 208.747 2185.64 204.951 L2185.64 190.252 L2189.9 190.252 L2189.9 216.178 L2185.64 216.178 L2185.64 212.196 Q2184.09 214.557 2182.03 215.715 Q2179.99 216.849 2177.29 216.849 Q2172.82 216.849 2170.5 214.071 Q2168.19 211.293 2168.19 205.946 M2178.91 189.627 L2178.91 189.627 Z\" fill=\"#000000\" fill-rule=\"evenodd\" fill-opacity=\"1\" /><path clip-path=\"url(#clip250)\" d=\"M2210.46 203.145 Q2205.29 203.145 2203.3 204.326 Q2201.31 205.506 2201.31 208.354 Q2201.31 210.622 2202.79 211.965 Q2204.3 213.284 2206.87 213.284 Q2210.41 213.284 2212.54 210.784 Q2214.69 208.261 2214.69 204.094 L2214.69 203.145 L2210.46 203.145 M2218.95 201.386 L2218.95 216.178 L2214.69 216.178 L2214.69 212.242 Q2213.23 214.603 2211.06 215.738 Q2208.88 216.849 2205.73 216.849 Q2201.75 216.849 2199.39 214.627 Q2197.05 212.381 2197.05 208.631 Q2197.05 204.256 2199.97 202.034 Q2202.91 199.812 2208.72 199.812 L2214.69 199.812 L2214.69 199.395 Q2214.69 196.455 2212.75 194.858 Q2210.83 193.238 2207.33 193.238 Q2205.11 193.238 2203 193.77 Q2200.9 194.303 2198.95 195.367 L2198.95 191.432 Q2201.29 190.53 2203.49 190.09 Q2205.69 189.627 2207.77 189.627 Q2213.4 189.627 2216.17 192.543 Q2218.95 195.46 2218.95 201.386 Z\" fill=\"#000000\" fill-rule=\"evenodd\" fill-opacity=\"1\" /><path clip-path=\"url(#clip250)\" d=\"M2227.73 180.159 L2231.98 180.159 L2231.98 216.178 L2227.73 216.178 L2227.73 180.159 Z\" fill=\"#000000\" fill-rule=\"evenodd\" fill-opacity=\"1\" /></svg>\n"
      ]
     },
     "execution_count": 13,
     "metadata": {},
     "output_type": "execute_result"
    }
   ],
   "source": [
    "# compare the controls\n",
    "plot(controls(altro), label=\"ref\")\n",
    "plot!(Usim, label=\"actual\")"
   ]
  },
  {
   "cell_type": "markdown",
   "metadata": {},
   "source": [
    "## Part (b): Setting up the ILC QP (9 pts)\n",
    "With a reference trajectory and closed-loop controller, let's use ILC to modify the feedforward (reference) control inputs to get our \"real\" system to match our expected trajectory. At each iteration of ILC you should solve a QP of the following form:\n",
    "\n",
    "$$\n",
    "\\begin{align}\n",
    "\\text{minimize} &&& \\frac{1}{2} (\\Delta x_N - \\Delta \\bar{x}_N)^T Q_N (\\Delta x_N - \\Delta \\bar{x}_N) \n",
    "+ \\frac{1}{2} \\sum_{k=1}^{N-1} (\\Delta x_k - \\Delta \\bar{x}_k)^T Q_k (\\Delta x_k - \\Delta \\bar{x}_k)\n",
    "                             + (\\Delta u_k - \\Delta \\bar{u}_k)^T R_k (\\Delta u_k - \\Delta \\bar{u}_k) \\\\\n",
    "\\text{subject to} &&& \\Delta x_{k+1} = A_k \\Delta x_k + B_k \\Delta x_k \\\\\n",
    "                  &&& -\\Delta u_\\text{bnd} \\leq \\Delta u_k \\leq \\Delta u_\\text{bnd}\n",
    "\\end{align}\n",
    "$$\n",
    "where $\\Delta x = x - x_\\text{ref}$, $\\bar{x}_k$ is the trajectory from the real system, and $x_\\text{ref}$, $u_\\text{ref}$ is the reference trajectory. After every iteration, the reference controls $u_\\text{ref}$ are updated using $\\Delta u$. The linearized dynamics are the dynamics of the **closed-loop** system."
   ]
  },
  {
   "cell_type": "code",
   "execution_count": 14,
   "metadata": {},
   "outputs": [
    {
     "data": {
      "text/plain": [
       "update_qp!"
      ]
     },
     "execution_count": 14,
     "metadata": {},
     "output_type": "execute_result"
    }
   ],
   "source": [
    "# TASK: Complete the following function\n",
    "#       1. build_qp    (5 pts)\n",
    "#       2. update_qp!  (4 pts)\n",
    "\n",
    "\"\"\"\n",
    "    ILCData\n",
    "\n",
    "Store basic information about the iterative learning control (ILC)\n",
    "problem, including the quadratic cost function matrices, the reference\n",
    "trajectory, and the control bounds.\n",
    "\"\"\"\n",
    "struct ILCData{n,m,T}\n",
    "    Q::Diagonal{T,SVector{n,T}}\n",
    "    R::Diagonal{T,SVector{m,T}}\n",
    "    Qf::Diagonal{T,SVector{n,T}}\n",
    "    Xref::Vector{SVector{n,T}}\n",
    "    Uref::Vector{SVector{m,T}}\n",
    "    times::Vector{T}\n",
    "    u_bnd::T\n",
    "    iters::Ref{Int}\n",
    "end\n",
    "\n",
    "\"\"\"\n",
    "    build_qp(data, Xsim, Usim, A,B,K)\n",
    "\n",
    "Build the QP for the ILC problem, using the data for the ILC problem in `data`,\n",
    "the trajectories from the real system `Xsim`, `Usim`, the linearization about\n",
    "the reference trajectory `A`, `B`, and the feedback matrices `K`.\n",
    "\n",
    "TIP: The dynamics constraints should be on the closed-loop system.\n",
    "\"\"\"\n",
    "function build_qp(data::ILCData, Xsim, Usim, A,B,K)\n",
    "    Nh = length(data.Xref)\n",
    "    n,m = size(B[1])\n",
    "    Xref,Uref = data.Xref, data.Uref\n",
    "    \n",
    "    # TODO: Build the QP for ILC\n",
    "    Np = (Nh-1)*(n+m)         # number of primals\n",
    "    Nd = (Nh-1)*n + (Nh-1)*m  #  number of duals\n",
    "    H = spzeros(Np,Np)\n",
    "    q = zeros(Np)\n",
    "    C = spzeros(Nd,Np)\n",
    "    lb = fill(-Inf,Nd)\n",
    "    ub = fill(+Inf,Nd)\n",
    "    \n",
    "    # SOLUTION\n",
    "    # Cost\n",
    "    Qilc = sparse(data.Q)\n",
    "    Rilc = sparse(data.R)\n",
    "    H = blockdiag(kron(I(Nh-2), blockdiag(Rilc, Qilc)), Rilc, sparse(data.Qf))\n",
    "    q = zeros((n+m)*(Nh-1))\n",
    "    for k = 1:(Nh-2)\n",
    "        q[(k-1)*(m+n) .+ (1:(m+n))] .= [0.0; Qilc*(Xsim[k+1]-Xref[k+1])]\n",
    "    end\n",
    "    q[(Nh-2)*(m+n) .+ (1:(m+n))] .= [0.0; Qf*(Xsim[Nh]-Xref[Nh])]\n",
    "    \n",
    "    # Constraints\n",
    "    U = kron(I(Nh-1), [I zeros(m,n)]) #Matrix that picks out all u\n",
    "    X = kron(I(Nh-1), [zeros(n,m) I]) #Matrix that picks out all x\n",
    "    D = spzeros(n*(Nh-1), (n+m)*(Nh-1)) #dynamics constraints\n",
    "    D[1:n,1:m] .= B[1]\n",
    "    D[1:n,(m+1):(m+n)] .= -I(n)\n",
    "    for k = 1:(Nh-2)\n",
    "        D[(k*n).+(1:n), (m+(k-1)*(n+m)).+(1:(2*n+m))] .= [(A[k+1]-B[k+1]*K[k+1]) B[k+1] -I]\n",
    "    end\n",
    "    Ubar = hcat(Vector.(Uref)...)\n",
    "    C = [D; U]\n",
    "    lb = [zeros(n*(Nh-1)); -u_bnd .- vec(Ubar)]\n",
    "    ub = [zeros(n*(Nh-1)); +u_bnd .- vec(Ubar)]\n",
    "    # END SOLUTION\n",
    "    \n",
    "    # Build QP\n",
    "    qp = OSQP.Model()\n",
    "    OSQP.setup!(\n",
    "        qp, P=H, q=q, A=C, l=lb, u=ub,\n",
    "        # QP Parameters: feel free to change these, but these values should work fine\n",
    "        eps_abs=1e-6, eps_rel=1e-6, eps_prim_inf = 1.0e-6, eps_dual_inf = 1.0e-6, polish=1, verbose=0\n",
    "    )\n",
    "    return qp\n",
    "end\n",
    "\n",
    "\"\"\"\n",
    "    update_qp!(qp, data, X, U)\n",
    "\n",
    "Update the ILC QP with the current trajectories `X` and `U` from the real system.\n",
    "\"\"\"\n",
    "function update_qp!(qp::OSQP.Model, data, X, U)\n",
    "    Nh = length(data.Xref)\n",
    "    n,m = length(X[1]), length(U[1])\n",
    "    Qilc, Rilc, Qf = data.Q, data.R, data.Qf\n",
    "    \n",
    "    # TODO: Update the QP with the new data\n",
    "    Np = (Nh-1)*(n+m)\n",
    "    q = zeros(Np)\n",
    "    \n",
    "    # SOLUTION\n",
    "    for k = 1:(Nh-2)\n",
    "        q[(k-1)*(m+n) .+ (1:(m+n))] .= [0.0; Qilc*(X[k+1]-data.Xref[k+1])]\n",
    "    end\n",
    "    q[(Nh-2)*(m+n) .+ (1:(m+n))] .= [0.0; Qf*(X[Nh]-data.Xref[Nh])]\n",
    "    # END SOLUTION\n",
    "    \n",
    "    OSQP.update_q!(qp, q)\n",
    "    data.iters[] += 1     # Don't change this line!\n",
    "    return q\n",
    "end"
   ]
  },
  {
   "cell_type": "code",
   "execution_count": 16,
   "metadata": {},
   "outputs": [
    {
     "name": "stdout",
     "output_type": "stream",
     "text": [
      "\u001b[0m\u001b[1mTest Summary: | \u001b[22m\u001b[32m\u001b[1mPass  \u001b[22m\u001b[39m\u001b[36m\u001b[1mTotal\u001b[22m\u001b[39m\n",
      "Q3b           | \u001b[32m   5  \u001b[39m\u001b[36m    5\u001b[39m\n"
     ]
    }
   ],
   "source": [
    "@testset \"Q3b\" begin                                                                        # POINTS = 9\n",
    "    n,m,N = size(altro)\n",
    "    Xref = states(altro)\n",
    "    Uref = controls(altro);\n",
    "    \n",
    "    # Get simulated trajectory\n",
    "    Xsim,Usim = rollout(model, K, Xref, Uref, get_times(altro));\n",
    "    \n",
    "    # Save data into ILCData\n",
    "    Qilc = Diagonal(SA[1.0; 1.0; 1.0; 1.0])\n",
    "    Rilc = Diagonal(SA[0.1])\n",
    "    Qf = get_objective(altro).obj[end].Q\n",
    "    u_bnd = get_constraints(altro).convals[1].con.z_max[end]\n",
    "    data = ILCData(Qilc,Rilc,Qf, Xref, Uref, get_times(altro), u_bnd, Ref(0));\n",
    "    \n",
    "    # Build the QP\n",
    "    qp0 = build_qp(data, Xsim, Usim, A,B,K);\n",
    "    \n",
    "    # Solve the QP\n",
    "    res = OSQP.solve!(qp0)\n",
    "    @test res.info.status == :Solved                                                      # POINTS = 1\n",
    "    @test res.x ≈ load(resfile, \"resx\") rtol=1e-3                                         # POITNS = 4\n",
    "    \n",
    "    # Update the QP\n",
    "    for k in eachindex(Uref)\n",
    "        Uref[k] += fill(0.1, m)  # this should come from the controller in your implementation!\n",
    "    end\n",
    "    data.Uref .= Uref\n",
    "    Xsim2,Usim2 = rollout(model, K, Xref, Uref, get_times(altro));  # new simulated trajectories\n",
    "    update_qp!(qp0, data, Xsim2, Usim2)\n",
    "    res2 = OSQP.solve!(qp0)\n",
    "    @test res2.info.status == :Solved                                                     # POINTS = 1\n",
    "    @test norm(res2.x - res.x) > 5                                                        # POINTS = 1\n",
    "    @test res2.x ≈ load(resfile, \"res2x\") rtol=1e-3                                       # POINTS = 1\n",
    "end;"
   ]
  },
  {
   "cell_type": "markdown",
   "metadata": {},
   "source": [
    "## Part (c): Implement ILC (10 points)\n",
    "Using everything we've implemented so far, implement the complete ILC algorithm and validate that the updated \n",
    "reference trajectory stabilizes the \"true\" dynamics."
   ]
  },
  {
   "cell_type": "code",
   "execution_count": 19,
   "metadata": {},
   "outputs": [
    {
     "data": {
      "text/plain": [
       "run_ilc"
      ]
     },
     "execution_count": 19,
     "metadata": {},
     "output_type": "execute_result"
    }
   ],
   "source": [
    "# TASK: Implement ILC  (10 pts)\n",
    "\"\"\"\n",
    "    run_ilc(altro; [verbose])\n",
    "\n",
    "Run ILC on the output on the problem and optimized trajectory stored in `altro`. \n",
    "Should iterate until improvements in the SSE between the state trajectory of the real \n",
    "system and the nominal trajectory is small (less than `tol`).\n",
    "\"\"\"\n",
    "function run_ilc(altro;\n",
    "        verbose=true,\n",
    "        tol=1e-2\n",
    "    )\n",
    "    \n",
    "    # Get nominal trajectory\n",
    "    Xref = states(altro)\n",
    "    Uref = controls(altro);\n",
    "    n,m,Nh = size(altro)\n",
    "    \n",
    "    # Get costs out of solver\n",
    "    Q = get_objective(altro).obj[1].Q\n",
    "    R = get_objective(altro).obj[1].R\n",
    "    Qf = get_objective(altro).obj[end].Q\n",
    "    \n",
    "    # Get bound out of solver\n",
    "    u_bnd = get_constraints(altro).convals[1].con.z_max[end]\n",
    "    \n",
    "    # ILC Cost functions    \n",
    "    Qilc = Diagonal(SA[1.0; 1.0; 1.0; 1.0])\n",
    "    Rilc = Diagonal(SA[0.1])\n",
    "    \n",
    "    # Generate ILC Data\n",
    "    data = ILCData(Qilc,Rilc,Qf, Xref, Uref, get_times(altro), u_bnd, Ref(0));\n",
    "    \n",
    "    # TODO: Use ILC to improve the tracking performance\n",
    "    #  TIP: you'll need to generate A,B,K and using the code from part (a)\n",
    "    #  TIP: compute the first SSE value outside the loop, and compare between subsequent iterations\n",
    "    #  TIP: you should only need to call build_qp once\n",
    "    Xsim = deepcopy(Xref)\n",
    "    Usim = deepcopy(Uref)\n",
    "    \n",
    "    # SOLUTION\n",
    "    # Generate Tracking Controller\n",
    "    A,B = linearize(get_model(altro), states(altro), controls(altro), get_times(altro))\n",
    "    K,P = tvlqr(A,B, Q,R,Qf);\n",
    "    U = kron(I(Nh-1), [I zeros(m,n)]) #Matrix that picks out all u\n",
    "    \n",
    "    # Generate first problem\n",
    "    Xsim,Usim = rollout(model, K, Xref, Uref, get_times(altro));\n",
    "    sse_prev = norm(Xsim - Xref)\n",
    "    qp0 = build_qp(data, Xsim, Usim, A,B,K);\n",
    "    verbose && @printf(\"Iter 0: sse = %0.3f\\n\", sse_prev)\n",
    "    \n",
    "    for iter = 1:10\n",
    "        # Solve QP and modify feedforward controls\n",
    "        res0 = OSQP.solve!(qp0)\n",
    "        Δu = reshape(U*res0.x, m, N-1)\n",
    "        for k = 1:N-1\n",
    "            Uref[k] += Δu[:,k]\n",
    "        end\n",
    "        \n",
    "        # Simulate the system with the new feedforward controls\n",
    "        Xsim,Usim = rollout(model, K, Xref, Uref, get_times(altro));\n",
    "        sse = norm(Xsim - Xref)\n",
    "        verbose && @printf(\"Iter %d: sse = %0.3f (%0.2e)\\n\", iter, sse, sse_prev-sse)\n",
    "        if sse_prev - sse < tol\n",
    "            break\n",
    "        end\n",
    "        sse_prev = sse\n",
    "        \n",
    "        # Update the QP\n",
    "        data.Uref .= Uref\n",
    "        q0 = update_qp!(qp0, data, Xsim, Usim)\n",
    "        \n",
    "    end\n",
    "    # END SOLUTION\n",
    "    return Xsim,Usim,data\n",
    "end"
   ]
  },
  {
   "cell_type": "code",
   "execution_count": 20,
   "metadata": {},
   "outputs": [
    {
     "name": "stdout",
     "output_type": "stream",
     "text": [
      "Iter 0: sse = 5.845\n",
      "Iter 1: sse = 3.949 (1.90e+00)\n",
      "Iter 2: sse = 3.084 (8.65e-01)\n",
      "Iter 3: sse = 2.533 (5.51e-01)\n",
      "Iter 4: sse = 2.226 (3.07e-01)\n",
      "Iter 5: sse = 2.128 (9.82e-02)\n",
      "Iter 6: sse = 2.100 (2.81e-02)\n",
      "Iter 7: sse = 2.089 (1.12e-02)\n",
      "Iter 8: sse = 2.088 (7.73e-04)\n"
     ]
    }
   ],
   "source": [
    "Xilc,Uilc,data = run_ilc(altro);"
   ]
  },
  {
   "cell_type": "code",
   "execution_count": 25,
   "metadata": {},
   "outputs": [
    {
     "name": "stdout",
     "output_type": "stream",
     "text": [
      "\u001b[0m\u001b[1mTest Summary: | \u001b[22m\u001b[32m\u001b[1mPass  \u001b[22m\u001b[39m\u001b[36m\u001b[1mTotal\u001b[22m\u001b[39m\n",
      "Part c        | \u001b[32m   6  \u001b[39m\u001b[36m    6\u001b[39m\n"
     ]
    }
   ],
   "source": [
    "@testset \"Part c\" begin                        # POINTS = 10\n",
    "    @test norm(Xilc - Xref) < 2.1              # POINTS = 2\n",
    "    @test 10 < norm(Uilc - Uref) < 20          # POINTS = 0.5\n",
    "    @test norm(Xilc[end] - Xref[end]) < 0.05   # POINTS = 4\n",
    "    @test data.iters[] < 20                    # POINTS = 2\n",
    "    @test norm(data.Uref - Uref) > 10          # POINTS = 1\n",
    "    @test norm(data.Xref - Xref) < 1e-10       # POINTS = 0.5\n",
    "end;"
   ]
  },
  {
   "cell_type": "code",
   "execution_count": 26,
   "metadata": {},
   "outputs": [
    {
     "data": {
      "text/html": [
       "    <div style=\"height: 500px; width: 100%; overflow-x: auto; overflow-y: hidden; resize: both\">\n",
       "    <iframe src=\"http://127.0.0.1:8705\" style=\"width: 100%; height: 100%; border: none\"></iframe>\n",
       "    </div>\n"
      ],
      "text/plain": [
       "MeshCat.DisplayedVisualizer(MeshCat.CoreVisualizer(MeshCat.SceneTrees.SceneNode(nothing, nothing, Dict{String, Vector{UInt8}}(), UInt8[0x83, 0xa7, 0x6f, 0x70, 0x74, 0x69, 0x6f, 0x6e, 0x73, 0x82  …  0x5f, 0x61, 0x6e, 0x69, 0x6d, 0x61, 0x74, 0x69, 0x6f, 0x6e], Dict{String, MeshCat.SceneTrees.SceneNode}(\"meshcat\" => MeshCat.SceneTrees.SceneNode(nothing, nothing, Dict{String, Vector{UInt8}}(), nothing, Dict{String, MeshCat.SceneTrees.SceneNode}(\"robot_copies\" => MeshCat.SceneTrees.SceneNode(nothing, nothing, Dict{String, Vector{UInt8}}(), nothing, Dict{String, MeshCat.SceneTrees.SceneNode}(\"robot2\" => MeshCat.SceneTrees.SceneNode(nothing, nothing, Dict{String, Vector{UInt8}}(), nothing, Dict{String, MeshCat.SceneTrees.SceneNode}(\"robot\" => MeshCat.SceneTrees.SceneNode(nothing, nothing, Dict{String, Vector{UInt8}}(), nothing, Dict{String, MeshCat.SceneTrees.SceneNode}(\"base\" => MeshCat.SceneTrees.SceneNode(UInt8[0x83, 0xa6, 0x6f, 0x62, 0x6a, 0x65, 0x63, 0x74, 0x84, 0xaa  …  0x72, 0x6f, 0x62, 0x6f, 0x74, 0x2f, 0x62, 0x61, 0x73, 0x65], nothing, Dict{String, Vector{UInt8}}(), nothing, Dict{String, MeshCat.SceneTrees.SceneNode}()), \"link1\" => MeshCat.SceneTrees.SceneNode(UInt8[0x83, 0xa6, 0x6f, 0x62, 0x6a, 0x65, 0x63, 0x74, 0x84, 0xaa  …  0x6f, 0x62, 0x6f, 0x74, 0x2f, 0x6c, 0x69, 0x6e, 0x6b, 0x31], nothing, Dict{String, Vector{UInt8}}(), nothing, Dict{String, MeshCat.SceneTrees.SceneNode}(\"joint\" => MeshCat.SceneTrees.SceneNode(UInt8[0x83, 0xa6, 0x6f, 0x62, 0x6a, 0x65, 0x63, 0x74, 0x84, 0xaa  …  0x69, 0x6e, 0x6b, 0x31, 0x2f, 0x6a, 0x6f, 0x69, 0x6e, 0x74], UInt8[0x83, 0xa6, 0x6d, 0x61, 0x74, 0x72, 0x69, 0x78, 0xc7, 0x40  …  0x69, 0x6e, 0x6b, 0x31, 0x2f, 0x6a, 0x6f, 0x69, 0x6e, 0x74], Dict{String, Vector{UInt8}}(), nothing, Dict{String, MeshCat.SceneTrees.SceneNode}()), \"link2\" => MeshCat.SceneTrees.SceneNode(UInt8[0x83, 0xa6, 0x6f, 0x62, 0x6a, 0x65, 0x63, 0x74, 0x84, 0xaa  …  0x69, 0x6e, 0x6b, 0x31, 0x2f, 0x6c, 0x69, 0x6e, 0x6b, 0x32], UInt8[0x83, 0xa6, 0x6d, 0x61, 0x74, 0x72, 0x69, 0x78, 0xc7, 0x40  …  0x69, 0x6e, 0x6b, 0x31, 0x2f, 0x6c, 0x69, 0x6e, 0x6b, 0x32], Dict{String, Vector{UInt8}}(), nothing, Dict{String, MeshCat.SceneTrees.SceneNode}()))))))))), \"robot\" => MeshCat.SceneTrees.SceneNode(nothing, nothing, Dict{String, Vector{UInt8}}(), nothing, Dict{String, MeshCat.SceneTrees.SceneNode}(\"base\" => MeshCat.SceneTrees.SceneNode(UInt8[0x83, 0xa6, 0x6f, 0x62, 0x6a, 0x65, 0x63, 0x74, 0x84, 0xaa  …  0x72, 0x6f, 0x62, 0x6f, 0x74, 0x2f, 0x62, 0x61, 0x73, 0x65], nothing, Dict{String, Vector{UInt8}}(), nothing, Dict{String, MeshCat.SceneTrees.SceneNode}()), \"link1\" => MeshCat.SceneTrees.SceneNode(UInt8[0x83, 0xa6, 0x6f, 0x62, 0x6a, 0x65, 0x63, 0x74, 0x84, 0xaa  …  0x6f, 0x62, 0x6f, 0x74, 0x2f, 0x6c, 0x69, 0x6e, 0x6b, 0x31], nothing, Dict{String, Vector{UInt8}}(), nothing, Dict{String, MeshCat.SceneTrees.SceneNode}(\"joint\" => MeshCat.SceneTrees.SceneNode(UInt8[0x83, 0xa6, 0x6f, 0x62, 0x6a, 0x65, 0x63, 0x74, 0x84, 0xaa  …  0x69, 0x6e, 0x6b, 0x31, 0x2f, 0x6a, 0x6f, 0x69, 0x6e, 0x74], UInt8[0x83, 0xa6, 0x6d, 0x61, 0x74, 0x72, 0x69, 0x78, 0xc7, 0x40  …  0x69, 0x6e, 0x6b, 0x31, 0x2f, 0x6a, 0x6f, 0x69, 0x6e, 0x74], Dict{String, Vector{UInt8}}(), nothing, Dict{String, MeshCat.SceneTrees.SceneNode}()), \"link2\" => MeshCat.SceneTrees.SceneNode(UInt8[0x83, 0xa6, 0x6f, 0x62, 0x6a, 0x65, 0x63, 0x74, 0x84, 0xaa  …  0x69, 0x6e, 0x6b, 0x31, 0x2f, 0x6c, 0x69, 0x6e, 0x6b, 0x32], UInt8[0x83, 0xa6, 0x6d, 0x61, 0x74, 0x72, 0x69, 0x78, 0xc7, 0x40  …  0x69, 0x6e, 0x6b, 0x31, 0x2f, 0x6c, 0x69, 0x6e, 0x6b, 0x32], Dict{String, Vector{UInt8}}(), nothing, Dict{String, MeshCat.SceneTrees.SceneNode}()))))))))), Set(Any[WebSocket(server, \u001b[32mCONNECTED\u001b[39m), WebSocket(server, \u001b[32mCONNECTED\u001b[39m)]), ip\"127.0.0.1\", 8705))"
      ]
     },
     "execution_count": 26,
     "metadata": {},
     "output_type": "execute_result"
    }
   ],
   "source": [
    "isautograder || render(vis)"
   ]
  },
  {
   "cell_type": "code",
   "execution_count": 27,
   "metadata": {},
   "outputs": [],
   "source": [
    "# visualize the result (reference shown as a ghost)\n",
    "# TIP: solutions will differ slightly, but should both reach the goal position\n",
    "isautograder || visualize!(vis, model, Tf, Xilc, states(altro), colors=[colorant\"blue\", RGBA(0,0,1,0.5)])"
   ]
  }
 ],
 "metadata": {
  "@webio": {
   "lastCommId": "100897c8533645f7b9502ff41012b289",
   "lastKernelId": "57b61f69-7e36-478a-8602-aa92e774e48f"
  },
  "kernelspec": {
   "display_name": "Julia 1.6.5",
   "language": "julia",
   "name": "julia-1.6"
  },
  "language_info": {
   "file_extension": ".jl",
   "mimetype": "application/julia",
   "name": "julia",
   "version": "1.6.5"
  }
 },
 "nbformat": 4,
 "nbformat_minor": 4
}
