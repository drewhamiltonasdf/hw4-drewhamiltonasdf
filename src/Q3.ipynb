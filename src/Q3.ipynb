{
 "cells": [
  {
   "cell_type": "code",
   "execution_count": null,
   "metadata": {},
   "outputs": [],
   "source": [
    "import Pkg; Pkg.activate(joinpath(@__DIR__,\"..\")); Pkg.instantiate()\n",
    "using TrajectoryOptimization\n",
    "import TrajectoryOptimization: get_times\n",
    "using RobotDynamics\n",
    "import RobotZoo.Acrobot\n",
    "using StaticArrays\n",
    "using SparseArrays\n",
    "using LinearAlgebra\n",
    "using ForwardDiff\n",
    "using OSQP\n",
    "using Plots\n",
    "using TrajOptPlots\n",
    "using Colors\n",
    "using Printf\n",
    "using Test\n",
    "using JLD2\n",
    "include(\"acrobot.jl\")\n",
    "include(\"utils.jl\")\n",
    "const resfile = joinpath(@__DIR__,\"q3.jld2\")\n",
    "const isautograder = @isdefined autograder;"
   ]
  },
  {
   "cell_type": "markdown",
   "metadata": {},
   "source": [
    "# Question 3: Iterative Learning Control (25 pts)\n",
    "In this problem we'll be exploring the use of iterative learning control (ILC) to update our trajectories to work on a \"real\" system with some un-modeled system dynamics. We'll first find an optimalized trajectory using our approximate model, and then refine those trajectories using ILC to achieve the desired behavior. \n",
    "\n",
    "## Dynamics\n",
    "We'll keep things simple by applying this to the \"acrobot\" system, which is just a double pendulum with actuation only at the elbow joint. We'll use the model out of RobotZoo.\n",
    "\n",
    "## Setting up the Optimization problem\n",
    "We'll use TrajectoryOptimization.jl to define our problem. We specify an initial and terminal constraint, a quadratic cost function that penalizes distance from the goal, and bounds on the torques. "
   ]
  },
  {
   "cell_type": "code",
   "execution_count": null,
   "metadata": {},
   "outputs": [],
   "source": [
    "# Dynamics Model\n",
    "l0 = @SVector [1.0, 1.0]\n",
    "m0 = @SVector [1.0, 1.0]\n",
    "J0 = @SVector [(1.0/12)*m0[1]*l0[1]*l0[1], (1.0/12)*m0[2]*l0[2]*l0[2]]\n",
    "model = Acrobot(l0, m0, J0)\n",
    "n,m = size(model);\n",
    "\n",
    "# Discretization\n",
    "N = 101\n",
    "Tf = 5.\n",
    "h = Tf/(N-1)\n",
    "\n",
    "# Initial and Final Conditions\n",
    "x0 = @SVector [-pi/2, 0, 0, 0]\n",
    "xf = @SVector [pi/2, 0, 0, 0];  # i.e. swing up\n",
    "\n",
    "# Objective\n",
    "Q = 100.0*Diagonal(@SVector ones(n))\n",
    "Qf = 1000.0*Diagonal(@SVector ones(n))\n",
    "R = 1.0*Diagonal(@SVector ones(m))\n",
    "obj = LQRObjective(Q,R,Qf,xf,N);\n",
    "\n",
    "# Constraints\n",
    "conSet = ConstraintList(n,m,N)\n",
    "\n",
    "# Control bounds\n",
    "u_bnd = 20.0\n",
    "bnd = BoundConstraint(n,m, u_min=-u_bnd, u_max=u_bnd)\n",
    "add_constraint!(conSet, bnd, 1:N-1)\n",
    "\n",
    "# Goal constraint\n",
    "goal = GoalConstraint(xf)\n",
    "add_constraint!(conSet, goal, N)\n",
    "\n",
    "# Define the problem\n",
    "prob = Problem(model, obj, xf, Tf, x0=x0, constraints=conSet, integration=RK4);\n",
    "\n",
    "# Initial controls\n",
    "U0 = [randn() for k = 1:N-1]\n",
    "initial_controls!(prob, U0)\n",
    "rollout!(prob);"
   ]
  },
  {
   "cell_type": "markdown",
   "metadata": {},
   "source": [
    "## Solving the Problem\n",
    "We'll make it easy for you and and solve the problem using ALTRO. Run the code below to solve for the optimized trajectory and visualize the result."
   ]
  },
  {
   "cell_type": "code",
   "execution_count": null,
   "metadata": {},
   "outputs": [],
   "source": [
    "using Altro\n",
    "using Random\n",
    "opts = SolverOptions(\n",
    "    iterations=1000,\n",
    "    constraint_tolerance=1e-4,\n",
    "    projected_newton=0,\n",
    "    verbose=0\n",
    ")\n",
    "\n",
    "Random.seed!(1)\n",
    "U0 = [randn() for k = 1:N-1]\n",
    "initial_controls!(prob, U0)\n",
    "\n",
    "altro = ALTROSolver(prob, opts)\n",
    "set_options!(altro, show_summary=true)\n",
    "solve!(altro);"
   ]
  },
  {
   "cell_type": "code",
   "execution_count": null,
   "metadata": {},
   "outputs": [],
   "source": [
    "if !isautograder\n",
    "    vis = Visualizer()\n",
    "    TrajOptPlots.set_mesh!(vis, model)\n",
    "    render(vis)\n",
    "end"
   ]
  },
  {
   "cell_type": "code",
   "execution_count": null,
   "metadata": {},
   "outputs": [],
   "source": [
    "isautograder || visualize!(vis, model, Tf, states(altro))"
   ]
  },
  {
   "cell_type": "markdown",
   "metadata": {},
   "source": [
    "## Part (a): Simulate on \"Real\" System (6 pts)\n",
    "Using out optimized trajectory, design a TVLQR control policy to tracking the new system. You'll also implement a basic simulator to test out your controller on the \"real\" system, which is slightly different than our nominal model. "
   ]
  },
  {
   "cell_type": "code",
   "execution_count": null,
   "metadata": {},
   "outputs": [],
   "source": [
    "# TASK: Calculate the TVLQR gains (3 pts)\n",
    "\n",
    "# Extract reference trajectory\n",
    "Xref = states(altro)\n",
    "Uref = controls(altro)\n",
    "times = get_times(altro)\n",
    "\n",
    "# TODO: Calculate the TVLQR gains and the linearized dynamics about the reference trajectory\n",
    "n,m,N = size(altro)\n",
    "A = [zeros(n,n) for k = 1:N-1]\n",
    "B = [zeros(n,m) for k = 1:N-1]\n",
    "K = [zeros(m,n) for k = 1:N-1]\n"
   ]
  },
  {
   "cell_type": "code",
   "execution_count": null,
   "metadata": {},
   "outputs": [],
   "source": [
    "@testset \"Q3a: TVLQR\" begin                                     # POINTS = 3\n",
    "    @test A ≈ load(resfile, \"A\") rtol=1e-3                      # POINTS = 1\n",
    "    @test B ≈ load(resfile, \"B\") rtol=1e-3                      # POINTS = 1\n",
    "    @test K ≈ load(resfile, \"K\") rtol=1e-3                      # POINTS = 1\n",
    "end;"
   ]
  },
  {
   "cell_type": "code",
   "execution_count": null,
   "metadata": {},
   "outputs": [],
   "source": [
    "# TASK: Implement the following function (3 pts)\n",
    "\"\"\"\n",
    "    rollout(model, K, Xref, Uref, times; [u_bnd, x0])\n",
    "\n",
    "Simulate the system with the TVLQR controller specified by the feedback gains `K` and reference trajectory `Xref`, `Uref`, and `times`.\n",
    "\n",
    "Should clamp the controls to be between `-u_bnd` and `+u_bnd` prior to integrating the system dynamics.\n",
    "\n",
    "For the dynamics integration, use `x′ = true_dynamics_rk4(model, x, u, dt)`.\n",
    "\"\"\"\n",
    "function rollout(model::Acrobot, K, Xref, Uref, times; u_bnd=20.0, x0=Xref[1])\n",
    "    n,m = size(model)\n",
    "    N = length(K) + 1\n",
    "    X = [@SVector zeros(n) for k = 1:N]\n",
    "    U = [@SVector zeros(m) for k = 1:N-1]\n",
    "    X[1] = x0\n",
    "    \n",
    "    # TODO: Simulate at the same time step as the reference trajectory\n",
    "    #  TIP: just loop over the indices, instead of time (just to make it easier)\n",
    "    #  TIP: remember to use `true_dynamics_rk4(model, x, u, dt)` to simulate your dynamics!\n",
    "    #  TIP: remember to clamp your controls before sending them to them to the simulator!\n",
    "    \n",
    "    return X, U\n",
    "end\n",
    "Xsim,Usim = rollout(model, K, states(altro), controls(altro), get_times(altro));"
   ]
  },
  {
   "cell_type": "code",
   "execution_count": null,
   "metadata": {},
   "outputs": [],
   "source": [
    "@testset \"Q3a: rollout\" begin                                  # POINTS = 3\n",
    "    @test norm(Xsim[1] - states(altro)[1]) < 1e-8              # POINTS = 1\n",
    "    @test 1 < norm(Xsim[end] - states(altro)[end]) < 2         # POINTS = 1\n",
    "    @test abs(maximum(norm.(Usim,Inf)) - u_bnd) < 1e-8         # POINTS = 1\n",
    "end;"
   ]
  },
  {
   "cell_type": "code",
   "execution_count": null,
   "metadata": {},
   "outputs": [],
   "source": [
    "isautograder || render(vis)"
   ]
  },
  {
   "cell_type": "code",
   "execution_count": null,
   "metadata": {},
   "outputs": [],
   "source": [
    "# visualize with ghost of the reference trajectory\n",
    "isautograder || visualize!(vis, model, Tf, Xsim, states(altro), colors=[colorant\"blue\", RGBA(0,0,1,0.5)])"
   ]
  },
  {
   "cell_type": "code",
   "execution_count": null,
   "metadata": {},
   "outputs": [],
   "source": [
    "# compare the joint angles\n",
    "isautograder || plot(states(altro), inds=1:2, label=\"ref\")\n",
    "isautograder || plot!(Xsim, inds=1:2, color=[1 2], ls=:dash, legend=:topleft, label=\"actual\")"
   ]
  },
  {
   "cell_type": "code",
   "execution_count": null,
   "metadata": {},
   "outputs": [],
   "source": [
    "# compare the controls\n",
    "isautograder || plot(controls(altro), label=\"ref\")\n",
    "isautograder || plot!(Usim, label=\"actual\")"
   ]
  },
  {
   "cell_type": "markdown",
   "metadata": {},
   "source": [
    "## Part (b): Setting up the ILC QP (9 pts)\n",
    "With a reference trajectory and closed-loop controller, let's use ILC to modify the feedforward (reference) control inputs to get our \"real\" system to match our expected trajectory. At each iteration of ILC you should solve a QP of the following form:\n",
    "\n",
    "$$\n",
    "\\begin{align}\n",
    "\\text{minimize} &&& \\frac{1}{2} (\\Delta x_N - \\Delta \\bar{x}_N)^T Q_N (\\Delta x_N - \\Delta \\bar{x}_N) \n",
    "+ \\frac{1}{2} \\sum_{k=1}^{N-1} (\\Delta x_k - \\Delta \\bar{x}_k)^T Q_k (\\Delta x_k - \\Delta \\bar{x}_k)\n",
    "                             + (\\Delta u_k - \\Delta \\bar{u}_k)^T R_k (\\Delta u_k - \\Delta \\bar{u}_k) \\\\\n",
    "\\text{subject to} &&& \\Delta x_{k+1} = A_k \\Delta x_k + B_k \\Delta x_k \\\\\n",
    "                  &&& -\\Delta u_\\text{bnd} \\leq \\Delta u_k \\leq \\Delta u_\\text{bnd}\n",
    "\\end{align}\n",
    "$$\n",
    "where $\\Delta x = x - x_\\text{ref}$, $\\bar{x}_k$ is the trajectory from the real system, and $x_\\text{ref}$, $u_\\text{ref}$ is the reference trajectory. After every iteration, the reference controls $u_\\text{ref}$ are updated using $\\Delta u$. The linearized dynamics are the dynamics of the **closed-loop** system."
   ]
  },
  {
   "cell_type": "code",
   "execution_count": null,
   "metadata": {},
   "outputs": [],
   "source": [
    "# TASK: Complete the following function\n",
    "#       1. build_qp    (5 pts)\n",
    "#       2. update_qp!  (4 pts)\n",
    "\n",
    "\"\"\"\n",
    "    ILCData\n",
    "\n",
    "Store basic information about the iterative learning control (ILC)\n",
    "problem, including the quadratic cost function matrices, the reference\n",
    "trajectory, and the control bounds.\n",
    "\"\"\"\n",
    "struct ILCData{n,m,T}\n",
    "    Q::Diagonal{T,SVector{n,T}}\n",
    "    R::Diagonal{T,SVector{m,T}}\n",
    "    Qf::Diagonal{T,SVector{n,T}}\n",
    "    Xref::Vector{SVector{n,T}}\n",
    "    Uref::Vector{SVector{m,T}}\n",
    "    times::Vector{T}\n",
    "    u_bnd::T\n",
    "    iters::Ref{Int}\n",
    "end\n",
    "\n",
    "\"\"\"\n",
    "    build_qp(data, Xsim, Usim, A,B,K)\n",
    "\n",
    "Build the QP for the ILC problem, using the data for the ILC problem in `data`,\n",
    "the trajectories from the real system `Xsim`, `Usim`, the linearization about\n",
    "the reference trajectory `A`, `B`, and the feedback matrices `K`.\n",
    "\n",
    "TIP: The dynamics constraints should be on the closed-loop system.\n",
    "\"\"\"\n",
    "function build_qp(data::ILCData, Xsim, Usim, A,B,K)\n",
    "    Nh = length(data.Xref)\n",
    "    n,m = size(B[1])\n",
    "    Xref,Uref = data.Xref, data.Uref\n",
    "    \n",
    "    # TODO: Build the QP for ILC\n",
    "    Np = (Nh-1)*(n+m)         # number of primals\n",
    "    Nd = (Nh-1)*n + (Nh-1)*m  #  number of duals\n",
    "    H = spzeros(Np,Np)\n",
    "    q = zeros(Np)\n",
    "    C = spzeros(Nd,Np)\n",
    "    lb = fill(-Inf,Nd)\n",
    "    ub = fill(+Inf,Nd)\n",
    "    \n",
    "    # Build QP\n",
    "    qp = OSQP.Model()\n",
    "    OSQP.setup!(\n",
    "        qp, P=H, q=q, A=C, l=lb, u=ub,\n",
    "        # QP Parameters: feel free to change these, but these values should work fine\n",
    "        eps_abs=1e-6, eps_rel=1e-6, eps_prim_inf = 1.0e-6, eps_dual_inf = 1.0e-6, polish=1, verbose=0\n",
    "    )\n",
    "    return qp\n",
    "end\n",
    "\n",
    "\"\"\"\n",
    "    update_qp!(qp, data, X, U)\n",
    "\n",
    "Update the ILC QP with the current trajectories `X` and `U` from the real system.\n",
    "\"\"\"\n",
    "function update_qp!(qp::OSQP.Model, data, X, U)\n",
    "    Nh = length(data.Xref)\n",
    "    n,m = length(X[1]), length(U[1])\n",
    "    Qilc, Rilc, Qf = data.Q, data.R, data.Qf\n",
    "    \n",
    "    # TODO: Update the QP with the new data\n",
    "    Np = (Nh-1)*(n+m)\n",
    "    q = zeros(Np)\n",
    "\n",
    "    \n",
    "    OSQP.update_q!(qp, q)\n",
    "    data.iters[] += 1     # Don't change this line!\n",
    "    return q\n",
    "end"
   ]
  },
  {
   "cell_type": "code",
   "execution_count": null,
   "metadata": {},
   "outputs": [],
   "source": [
    "@testset \"Q3b\" begin                                                                        # POINTS = 9\n",
    "    n,m,N = size(altro)\n",
    "    Xref = states(altro)\n",
    "    Uref = controls(altro);\n",
    "    \n",
    "    # Get simulated trajectory\n",
    "    Xsim,Usim = rollout(model, K, Xref, Uref, get_times(altro));\n",
    "    \n",
    "    # Save data into ILCData\n",
    "    Qilc = Diagonal(SA[1.0; 1.0; 1.0; 1.0])\n",
    "    Rilc = Diagonal(SA[0.1])\n",
    "    Qf = get_objective(altro).obj[end].Q\n",
    "    u_bnd = get_constraints(altro).convals[1].con.z_max[end]\n",
    "    data = ILCData(Qilc,Rilc,Qf, Xref, Uref, get_times(altro), u_bnd, Ref(0));\n",
    "    \n",
    "    # Build the QP\n",
    "    qp0 = build_qp(data, Xsim, Usim, A,B,K);\n",
    "    \n",
    "    # Solve the QP\n",
    "    res = OSQP.solve!(qp0)\n",
    "    @test res.info.status == :Solved                                                      # POINTS = 1\n",
    "    @test res.x ≈ load(resfile, \"resx\") rtol=1e-3                                         # POITNS = 4\n",
    "    \n",
    "    # Update the QP\n",
    "    for k in eachindex(Uref)\n",
    "        Uref[k] += fill(0.1, m)  # this should come from the controller in your implementation!\n",
    "    end\n",
    "    data.Uref .= Uref\n",
    "    Xsim2,Usim2 = rollout(model, K, Xref, Uref, get_times(altro));  # new simulated trajectories\n",
    "    update_qp!(qp0, data, Xsim2, Usim2)\n",
    "    res2 = OSQP.solve!(qp0)\n",
    "    @test res2.info.status == :Solved                                                     # POINTS = 1\n",
    "    @test norm(res2.x - res.x) > 5                                                        # POINTS = 1\n",
    "    @test res2.x ≈ load(resfile, \"res2x\") rtol=1e-3                                       # POINTS = 1\n",
    "end;"
   ]
  },
  {
   "cell_type": "markdown",
   "metadata": {},
   "source": [
    "## Part (c): Implement ILC (10 points)\n",
    "Using everything we've implemented so far, implement the complete ILC algorithm and validate that the updated \n",
    "reference trajectory stabilizes the \"true\" dynamics."
   ]
  },
  {
   "cell_type": "code",
   "execution_count": null,
   "metadata": {},
   "outputs": [],
   "source": [
    "# TASK: Implement ILC  (10 pts)\n",
    "\"\"\"\n",
    "    run_ilc(altro; [verbose])\n",
    "\n",
    "Run ILC on the output on the problem and optimized trajectory stored in `altro`. \n",
    "Should iterate until improvements in the SSE between the state trajectory of the real \n",
    "system and the nominal trajectory is small (less than `tol`).\n",
    "\"\"\"\n",
    "function run_ilc(altro;\n",
    "        verbose=true,\n",
    "        tol=1e-2\n",
    "    )\n",
    "    \n",
    "    # Get nominal trajectory\n",
    "    Xref = states(altro)\n",
    "    Uref = controls(altro);\n",
    "    n,m,Nh = size(altro)\n",
    "    \n",
    "    # Get costs out of solver\n",
    "    Q = get_objective(altro).obj[1].Q\n",
    "    R = get_objective(altro).obj[1].R\n",
    "    Qf = get_objective(altro).obj[end].Q\n",
    "    \n",
    "    # Get bound out of solver\n",
    "    u_bnd = get_constraints(altro).convals[1].con.z_max[end]\n",
    "    \n",
    "    # ILC Cost functions    \n",
    "    Qilc = Diagonal(SA[1.0; 1.0; 1.0; 1.0])\n",
    "    Rilc = Diagonal(SA[0.1])\n",
    "    \n",
    "    # Generate ILC Data\n",
    "    data = ILCData(Qilc,Rilc,Qf, Xref, Uref, get_times(altro), u_bnd, Ref(0));\n",
    "    \n",
    "    # TODO: Use ILC to improve the tracking performance\n",
    "    #  TIP: you'll need to generate A,B,K and using the code from part (a)\n",
    "    #  TIP: compute the first SSE value outside the loop, and compare between subsequent iterations\n",
    "    #  TIP: you should only need to call build_qp once\n",
    "    Xsim = deepcopy(Xref)\n",
    "    Usim = deepcopy(Uref)\n",
    "    \n",
    "    return Xsim,Usim,data\n",
    "end"
   ]
  },
  {
   "cell_type": "code",
   "execution_count": null,
   "metadata": {},
   "outputs": [],
   "source": [
    "Xilc,Uilc,data = run_ilc(altro);"
   ]
  },
  {
   "cell_type": "code",
   "execution_count": null,
   "metadata": {},
   "outputs": [],
   "source": [
    "@testset \"Part c\" begin                        # POINTS = 10\n",
    "    @test norm(Xilc - Xref) < 2.1              # POINTS = 2\n",
    "    @test 10 < norm(Uilc - Uref) < 20          # POINTS = 0.5\n",
    "    @test norm(Xilc[end] - Xref[end]) < 0.05   # POINTS = 4\n",
    "    @test data.iters[] < 20                    # POINTS = 2\n",
    "    @test norm(data.Uref - Uref) > 10          # POINTS = 1\n",
    "    @test norm(data.Xref - Xref) < 1e-10       # POINTS = 0.5\n",
    "end;"
   ]
  },
  {
   "cell_type": "code",
   "execution_count": null,
   "metadata": {},
   "outputs": [],
   "source": [
    "isautograder || render(vis)"
   ]
  },
  {
   "cell_type": "code",
   "execution_count": null,
   "metadata": {},
   "outputs": [],
   "source": [
    "# visualize the result (reference shown as a ghost)\n",
    "# TIP: solutions will differ slightly, but should both reach the goal position\n",
    "isautograder || visualize!(vis, model, Tf, Xilc, states(altro), colors=[colorant\"blue\", RGBA(0,0,1,0.5)])"
   ]
  }
 ],
 "metadata": {
  "@webio": {
   "lastCommId": "2d3e2c60b47a4a4d9d2707e886b25ffc",
   "lastKernelId": "d74fc1e7-2322-4d16-8f9d-8102e43f81fa"
  },
  "kernelspec": {
   "display_name": "Julia 1.6.5",
   "language": "julia",
   "name": "julia-1.6"
  },
  "language_info": {
   "file_extension": ".jl",
   "mimetype": "application/julia",
   "name": "julia",
   "version": "1.6.5"
  }
 },
 "nbformat": 4,
 "nbformat_minor": 4
}
